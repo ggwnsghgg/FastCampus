{
  "nbformat": 4,
  "nbformat_minor": 0,
  "metadata": {
    "colab": {
      "name": "TF-IDF2.ipynb",
      "provenance": [],
      "collapsed_sections": [],
      "authorship_tag": "ABX9TyN1Emfixfan1rFAKa17p2tf",
      "include_colab_link": true
    },
    "kernelspec": {
      "name": "python3",
      "display_name": "Python 3"
    },
    "language_info": {
      "name": "python"
    }
  },
  "cells": [
    {
      "cell_type": "markdown",
      "metadata": {
        "id": "view-in-github",
        "colab_type": "text"
      },
      "source": [
        "<a href=\"https://colab.research.google.com/github/ggwnsghgg/FastCampus/blob/master/TF_IDF2.ipynb\" target=\"_parent\"><img src=\"https://colab.research.google.com/assets/colab-badge.svg\" alt=\"Open In Colab\"/></a>"
      ]
    },
    {
      "cell_type": "markdown",
      "metadata": {
        "id": "1IH8AYaHi6lU"
      },
      "source": [
        "\n",
        "1. 컨텐츠기반 추천시스템\n",
        "2. 컨텐츠를 활용할 수 있는지\n",
        "3. 어떻게 컨텐츠들이 서로 연관이 있는지 평가하는 방법\n",
        "4. 근접이웃기반 컨텐츠기반 추천시스템 -> k-nearest neighbor\n",
        "5. naive bayes classifer -> 베이즈 추천시스템\n",
        "6. TF-IDF 개념설명 그리고 실습\n",
        "\n",
        "추천시스템 성능 평가 -> RMSE"
      ]
    },
    {
      "cell_type": "code",
      "metadata": {
        "colab": {
          "base_uri": "https://localhost:8080/"
        },
        "id": "wiDdss7IjCvq",
        "outputId": "e7bb233d-b3fe-4464-a296-54722a23e387"
      },
      "source": [
        "from google.colab import drive\n",
        "drive.mount('/content/drive')"
      ],
      "execution_count": 1,
      "outputs": [
        {
          "output_type": "stream",
          "text": [
            "Mounted at /content/drive\n"
          ],
          "name": "stdout"
        }
      ]
    },
    {
      "cell_type": "code",
      "metadata": {
        "id": "qRT5yL7ajHd1"
      },
      "source": [
        "import os\n",
        "import pandas as pd\n",
        "import numpy as np\n",
        "from tqdm import tqdm\n",
        "\n",
        "\n",
        "from sklearn.model_selection import train_test_split\n",
        "from sklearn.metrics import mean_squared_error"
      ],
      "execution_count": 4,
      "outputs": []
    },
    {
      "cell_type": "code",
      "metadata": {
        "id": "Bjn16BQ3jN0n"
      },
      "source": [
        "\n",
        "path = '/content/drive/MyDrive/data/movielens'\n",
        "\n",
        "\n",
        "ratings_df = pd.read_csv(os.path.join(path, 'ratings.csv'), encoding='utf-8')\n",
        "movies_df = pd.read_csv(os.path.join(path, 'movies.csv'), index_col='movieId', encoding='utf-8')\n",
        "tags_df = pd.read_csv(os.path.join(path, 'tags.csv'), encoding='utf-8')"
      ],
      "execution_count": 5,
      "outputs": []
    },
    {
      "cell_type": "code",
      "metadata": {
        "colab": {
          "base_uri": "https://localhost:8080/",
          "height": 674
        },
        "id": "OzPFUNIfkPJK",
        "outputId": "7890cd9c-5df2-4187-fcf0-fdc7cd7467fb"
      },
      "source": [
        "book_df"
      ],
      "execution_count": null,
      "outputs": [
        {
          "output_type": "execute_result",
          "data": {
            "text/html": [
              "<div>\n",
              "<style scoped>\n",
              "    .dataframe tbody tr th:only-of-type {\n",
              "        vertical-align: middle;\n",
              "    }\n",
              "\n",
              "    .dataframe tbody tr th {\n",
              "        vertical-align: top;\n",
              "    }\n",
              "\n",
              "    .dataframe thead th {\n",
              "        text-align: right;\n",
              "    }\n",
              "</style>\n",
              "<table border=\"1\" class=\"dataframe\">\n",
              "  <thead>\n",
              "    <tr style=\"text-align: right;\">\n",
              "      <th></th>\n",
              "      <th>id</th>\n",
              "      <th>title</th>\n",
              "      <th>author</th>\n",
              "      <th>pub</th>\n",
              "      <th>date</th>\n",
              "      <th>price</th>\n",
              "      <th>review</th>\n",
              "      <th>rating</th>\n",
              "      <th>story</th>\n",
              "      <th>img</th>\n",
              "      <th>genre</th>\n",
              "    </tr>\n",
              "  </thead>\n",
              "  <tbody>\n",
              "    <tr>\n",
              "      <th>0</th>\n",
              "      <td>1</td>\n",
              "      <td>요리코를 위해</td>\n",
              "      <td>노리즈키 린타로</td>\n",
              "      <td>모모</td>\n",
              "      <td>2020.03</td>\n",
              "      <td>13500.0</td>\n",
              "      <td>43.0</td>\n",
              "      <td>9.2</td>\n",
              "      <td>스스로 악마이자 신이 되어 딸을 살해한 남자를 심판한 아버지.비극의 출발이자 마지막...</td>\n",
              "      <td>http://image.yes24.com/goods/89392792/L</td>\n",
              "      <td>추리/미스터리</td>\n",
              "    </tr>\n",
              "    <tr>\n",
              "      <th>1</th>\n",
              "      <td>2</td>\n",
              "      <td>그녀는 다 계획이 있다</td>\n",
              "      <td>히가시노 게이고</td>\n",
              "      <td>하빌리스</td>\n",
              "      <td>2021.02</td>\n",
              "      <td>14220.0</td>\n",
              "      <td>13.0</td>\n",
              "      <td>9.4</td>\n",
              "      <td>하나야 보석점 살인사건을 둘러싼 과거와 미래의 사건경쾌하고 리듬감 있는 터치의 히가...</td>\n",
              "      <td>http://image.yes24.com/goods/97561319/L</td>\n",
              "      <td>추리/미스터리</td>\n",
              "    </tr>\n",
              "    <tr>\n",
              "      <th>2</th>\n",
              "      <td>3</td>\n",
              "      <td>블랙 쇼맨과 이름 없는 마을의 살인</td>\n",
              "      <td>히가시노 게이고</td>\n",
              "      <td>알에이치코리아(RHK)</td>\n",
              "      <td>2020.11</td>\n",
              "      <td>16200.0</td>\n",
              "      <td>54.0</td>\n",
              "      <td>9.1</td>\n",
              "      <td>아버지가 살해당했다, 그것도 결혼 소식을 알린 직후에. 행복하다고 느끼는 순간, 비...</td>\n",
              "      <td>http://image.yes24.com/goods/95712763/L</td>\n",
              "      <td>추리/미스터리</td>\n",
              "    </tr>\n",
              "    <tr>\n",
              "      <th>3</th>\n",
              "      <td>5</td>\n",
              "      <td>루팡의 딸</td>\n",
              "      <td>요코제키 다이</td>\n",
              "      <td>북플라자</td>\n",
              "      <td>2019.09</td>\n",
              "      <td>13500.0</td>\n",
              "      <td>31.0</td>\n",
              "      <td>8.5</td>\n",
              "      <td>도둑 집안의 대부가 변사체로 발견되었다!도둑 집안의 대부 이와오에게는 하나코라는 손...</td>\n",
              "      <td>http://image.yes24.com/goods/78860364/L</td>\n",
              "      <td>추리/미스터리</td>\n",
              "    </tr>\n",
              "    <tr>\n",
              "      <th>4</th>\n",
              "      <td>6</td>\n",
              "      <td>라플라스의 마녀</td>\n",
              "      <td>히가시노 게이고</td>\n",
              "      <td>현대문학</td>\n",
              "      <td>2016.01</td>\n",
              "      <td>13320.0</td>\n",
              "      <td>154.0</td>\n",
              "      <td>8.8</td>\n",
              "      <td>일본 추리소설계를 대표하는 최고의 베스트셀러 작가 히가시노 게이고가 2015년, 데...</td>\n",
              "      <td>http://image.yes24.com/goods/23630397/L</td>\n",
              "      <td>추리/미스터리</td>\n",
              "    </tr>\n",
              "    <tr>\n",
              "      <th>...</th>\n",
              "      <td>...</td>\n",
              "      <td>...</td>\n",
              "      <td>...</td>\n",
              "      <td>...</td>\n",
              "      <td>...</td>\n",
              "      <td>...</td>\n",
              "      <td>...</td>\n",
              "      <td>...</td>\n",
              "      <td>...</td>\n",
              "      <td>...</td>\n",
              "      <td>...</td>\n",
              "    </tr>\n",
              "    <tr>\n",
              "      <th>77128</th>\n",
              "      <td>79771</td>\n",
              "      <td>하루만 사랑해 2</td>\n",
              "      <td>NaN</td>\n",
              "      <td>파피루스(디앤씨미디어)</td>\n",
              "      <td>2003.06</td>\n",
              "      <td>8100.0</td>\n",
              "      <td>0.0</td>\n",
              "      <td>0.0</td>\n",
              "      <td>어느 날 서원은 횡단보도에서 교통사고를 당한다. 상대는 인천상고 짱인 노란머 민하루...</td>\n",
              "      <td>http://image.yes24.com/goods/375484/L</td>\n",
              "      <td>로맨스</td>\n",
              "    </tr>\n",
              "    <tr>\n",
              "      <th>77129</th>\n",
              "      <td>79772</td>\n",
              "      <td>서울 여자와 대구 남자가 만날 때</td>\n",
              "      <td>정민</td>\n",
              "      <td>영상노트</td>\n",
              "      <td>2003.06</td>\n",
              "      <td>8100.0</td>\n",
              "      <td>0.0</td>\n",
              "      <td>0.0</td>\n",
              "      <td>NaN</td>\n",
              "      <td>http://image.yes24.com/goods/376458/L</td>\n",
              "      <td>로맨스</td>\n",
              "    </tr>\n",
              "    <tr>\n",
              "      <th>77130</th>\n",
              "      <td>79773</td>\n",
              "      <td>kiss me...</td>\n",
              "      <td>NaN</td>\n",
              "      <td>현무</td>\n",
              "      <td>2003.06</td>\n",
              "      <td>7200.0</td>\n",
              "      <td>2.0</td>\n",
              "      <td>5.0</td>\n",
              "      <td>NaN</td>\n",
              "      <td>http://image.yes24.com/goods/377351/L</td>\n",
              "      <td>로맨스</td>\n",
              "    </tr>\n",
              "    <tr>\n",
              "      <th>77131</th>\n",
              "      <td>79774</td>\n",
              "      <td>어린 엄마 2</td>\n",
              "      <td>임은희</td>\n",
              "      <td>반디출판사</td>\n",
              "      <td>2003.07</td>\n",
              "      <td>8100.0</td>\n",
              "      <td>0.0</td>\n",
              "      <td>0.0</td>\n",
              "      <td>NaN</td>\n",
              "      <td>http://image.yes24.com/goods/377607/L</td>\n",
              "      <td>로맨스</td>\n",
              "    </tr>\n",
              "    <tr>\n",
              "      <th>77132</th>\n",
              "      <td>79775</td>\n",
              "      <td>어린 엄마 1</td>\n",
              "      <td>임은희</td>\n",
              "      <td>반디출판사</td>\n",
              "      <td>2003.07</td>\n",
              "      <td>8100.0</td>\n",
              "      <td>0.0</td>\n",
              "      <td>0.0</td>\n",
              "      <td>NaN</td>\n",
              "      <td>http://image.yes24.com/goods/377608/L</td>\n",
              "      <td>로맨스</td>\n",
              "    </tr>\n",
              "  </tbody>\n",
              "</table>\n",
              "<p>77133 rows × 11 columns</p>\n",
              "</div>"
            ],
            "text/plain": [
              "          id  ...    genre\n",
              "0          1  ...  추리/미스터리\n",
              "1          2  ...  추리/미스터리\n",
              "2          3  ...  추리/미스터리\n",
              "3          5  ...  추리/미스터리\n",
              "4          6  ...  추리/미스터리\n",
              "...      ...  ...      ...\n",
              "77128  79771  ...      로맨스\n",
              "77129  79772  ...      로맨스\n",
              "77130  79773  ...      로맨스\n",
              "77131  79774  ...      로맨스\n",
              "77132  79775  ...      로맨스\n",
              "\n",
              "[77133 rows x 11 columns]"
            ]
          },
          "metadata": {
            "tags": []
          },
          "execution_count": 5
        }
      ]
    },
    {
      "cell_type": "code",
      "metadata": {
        "colab": {
          "base_uri": "https://localhost:8080/",
          "height": 194
        },
        "id": "lmr62DmVkaNN",
        "outputId": "b7e7664f-1cdc-4edd-c850-c8d18affa7be"
      },
      "source": [
        "ratings_df.head()"
      ],
      "execution_count": 6,
      "outputs": [
        {
          "output_type": "execute_result",
          "data": {
            "text/html": [
              "<div>\n",
              "<style scoped>\n",
              "    .dataframe tbody tr th:only-of-type {\n",
              "        vertical-align: middle;\n",
              "    }\n",
              "\n",
              "    .dataframe tbody tr th {\n",
              "        vertical-align: top;\n",
              "    }\n",
              "\n",
              "    .dataframe thead th {\n",
              "        text-align: right;\n",
              "    }\n",
              "</style>\n",
              "<table border=\"1\" class=\"dataframe\">\n",
              "  <thead>\n",
              "    <tr style=\"text-align: right;\">\n",
              "      <th></th>\n",
              "      <th>userId</th>\n",
              "      <th>movieId</th>\n",
              "      <th>rating</th>\n",
              "      <th>timestamp</th>\n",
              "    </tr>\n",
              "  </thead>\n",
              "  <tbody>\n",
              "    <tr>\n",
              "      <th>0</th>\n",
              "      <td>1</td>\n",
              "      <td>1</td>\n",
              "      <td>4.0</td>\n",
              "      <td>964982703</td>\n",
              "    </tr>\n",
              "    <tr>\n",
              "      <th>1</th>\n",
              "      <td>1</td>\n",
              "      <td>3</td>\n",
              "      <td>4.0</td>\n",
              "      <td>964981247</td>\n",
              "    </tr>\n",
              "    <tr>\n",
              "      <th>2</th>\n",
              "      <td>1</td>\n",
              "      <td>6</td>\n",
              "      <td>4.0</td>\n",
              "      <td>964982224</td>\n",
              "    </tr>\n",
              "    <tr>\n",
              "      <th>3</th>\n",
              "      <td>1</td>\n",
              "      <td>47</td>\n",
              "      <td>5.0</td>\n",
              "      <td>964983815</td>\n",
              "    </tr>\n",
              "    <tr>\n",
              "      <th>4</th>\n",
              "      <td>1</td>\n",
              "      <td>50</td>\n",
              "      <td>5.0</td>\n",
              "      <td>964982931</td>\n",
              "    </tr>\n",
              "  </tbody>\n",
              "</table>\n",
              "</div>"
            ],
            "text/plain": [
              "   userId  movieId  rating  timestamp\n",
              "0       1        1     4.0  964982703\n",
              "1       1        3     4.0  964981247\n",
              "2       1        6     4.0  964982224\n",
              "3       1       47     5.0  964983815\n",
              "4       1       50     5.0  964982931"
            ]
          },
          "metadata": {
            "tags": []
          },
          "execution_count": 6
        }
      ]
    },
    {
      "cell_type": "code",
      "metadata": {
        "id": "JLN8HUT_kdNJ",
        "colab": {
          "base_uri": "https://localhost:8080/",
          "height": 223
        },
        "outputId": "86b4fefa-76e3-4294-ca47-a855d5b0ed74"
      },
      "source": [
        "movies_df.head()"
      ],
      "execution_count": 7,
      "outputs": [
        {
          "output_type": "execute_result",
          "data": {
            "text/html": [
              "<div>\n",
              "<style scoped>\n",
              "    .dataframe tbody tr th:only-of-type {\n",
              "        vertical-align: middle;\n",
              "    }\n",
              "\n",
              "    .dataframe tbody tr th {\n",
              "        vertical-align: top;\n",
              "    }\n",
              "\n",
              "    .dataframe thead th {\n",
              "        text-align: right;\n",
              "    }\n",
              "</style>\n",
              "<table border=\"1\" class=\"dataframe\">\n",
              "  <thead>\n",
              "    <tr style=\"text-align: right;\">\n",
              "      <th></th>\n",
              "      <th>title</th>\n",
              "      <th>genres</th>\n",
              "    </tr>\n",
              "    <tr>\n",
              "      <th>movieId</th>\n",
              "      <th></th>\n",
              "      <th></th>\n",
              "    </tr>\n",
              "  </thead>\n",
              "  <tbody>\n",
              "    <tr>\n",
              "      <th>1</th>\n",
              "      <td>Toy Story (1995)</td>\n",
              "      <td>Adventure|Animation|Children|Comedy|Fantasy</td>\n",
              "    </tr>\n",
              "    <tr>\n",
              "      <th>2</th>\n",
              "      <td>Jumanji (1995)</td>\n",
              "      <td>Adventure|Children|Fantasy</td>\n",
              "    </tr>\n",
              "    <tr>\n",
              "      <th>3</th>\n",
              "      <td>Grumpier Old Men (1995)</td>\n",
              "      <td>Comedy|Romance</td>\n",
              "    </tr>\n",
              "    <tr>\n",
              "      <th>4</th>\n",
              "      <td>Waiting to Exhale (1995)</td>\n",
              "      <td>Comedy|Drama|Romance</td>\n",
              "    </tr>\n",
              "    <tr>\n",
              "      <th>5</th>\n",
              "      <td>Father of the Bride Part II (1995)</td>\n",
              "      <td>Comedy</td>\n",
              "    </tr>\n",
              "  </tbody>\n",
              "</table>\n",
              "</div>"
            ],
            "text/plain": [
              "                                      title                                       genres\n",
              "movieId                                                                                 \n",
              "1                          Toy Story (1995)  Adventure|Animation|Children|Comedy|Fantasy\n",
              "2                            Jumanji (1995)                   Adventure|Children|Fantasy\n",
              "3                   Grumpier Old Men (1995)                               Comedy|Romance\n",
              "4                  Waiting to Exhale (1995)                         Comedy|Drama|Romance\n",
              "5        Father of the Bride Part II (1995)                                       Comedy"
            ]
          },
          "metadata": {
            "tags": []
          },
          "execution_count": 7
        }
      ]
    },
    {
      "cell_type": "code",
      "metadata": {
        "colab": {
          "base_uri": "https://localhost:8080/",
          "height": 194
        },
        "id": "7NwjpNnIDPaE",
        "outputId": "ad4d6413-01ec-40ad-8897-f54b6651e759"
      },
      "source": [
        "tags_df.head()"
      ],
      "execution_count": 8,
      "outputs": [
        {
          "output_type": "execute_result",
          "data": {
            "text/html": [
              "<div>\n",
              "<style scoped>\n",
              "    .dataframe tbody tr th:only-of-type {\n",
              "        vertical-align: middle;\n",
              "    }\n",
              "\n",
              "    .dataframe tbody tr th {\n",
              "        vertical-align: top;\n",
              "    }\n",
              "\n",
              "    .dataframe thead th {\n",
              "        text-align: right;\n",
              "    }\n",
              "</style>\n",
              "<table border=\"1\" class=\"dataframe\">\n",
              "  <thead>\n",
              "    <tr style=\"text-align: right;\">\n",
              "      <th></th>\n",
              "      <th>userId</th>\n",
              "      <th>movieId</th>\n",
              "      <th>tag</th>\n",
              "      <th>timestamp</th>\n",
              "    </tr>\n",
              "  </thead>\n",
              "  <tbody>\n",
              "    <tr>\n",
              "      <th>0</th>\n",
              "      <td>2</td>\n",
              "      <td>60756</td>\n",
              "      <td>funny</td>\n",
              "      <td>1445714994</td>\n",
              "    </tr>\n",
              "    <tr>\n",
              "      <th>1</th>\n",
              "      <td>2</td>\n",
              "      <td>60756</td>\n",
              "      <td>Highly quotable</td>\n",
              "      <td>1445714996</td>\n",
              "    </tr>\n",
              "    <tr>\n",
              "      <th>2</th>\n",
              "      <td>2</td>\n",
              "      <td>60756</td>\n",
              "      <td>will ferrell</td>\n",
              "      <td>1445714992</td>\n",
              "    </tr>\n",
              "    <tr>\n",
              "      <th>3</th>\n",
              "      <td>2</td>\n",
              "      <td>89774</td>\n",
              "      <td>Boxing story</td>\n",
              "      <td>1445715207</td>\n",
              "    </tr>\n",
              "    <tr>\n",
              "      <th>4</th>\n",
              "      <td>2</td>\n",
              "      <td>89774</td>\n",
              "      <td>MMA</td>\n",
              "      <td>1445715200</td>\n",
              "    </tr>\n",
              "  </tbody>\n",
              "</table>\n",
              "</div>"
            ],
            "text/plain": [
              "   userId  movieId              tag   timestamp\n",
              "0       2    60756            funny  1445714994\n",
              "1       2    60756  Highly quotable  1445714996\n",
              "2       2    60756     will ferrell  1445714992\n",
              "3       2    89774     Boxing story  1445715207\n",
              "4       2    89774              MMA  1445715200"
            ]
          },
          "metadata": {
            "tags": []
          },
          "execution_count": 8
        }
      ]
    },
    {
      "cell_type": "code",
      "metadata": {
        "id": "8BIBUw0ZDQvF"
      },
      "source": [
        "total_count = len(movies_df.index)\n",
        "total_genres = list(set([genre for sublist in list(map(lambda x: x.split('|'), movies_df['genres'])) for genre in sublist]))"
      ],
      "execution_count": 9,
      "outputs": []
    },
    {
      "cell_type": "code",
      "metadata": {
        "colab": {
          "base_uri": "https://localhost:8080/"
        },
        "id": "-08m9iqtDYCD",
        "outputId": "6f3c067b-dbda-42da-8e40-a1f927d69b6b"
      },
      "source": [
        "print(f\"전체 영화 수: {total_count}\")\n",
        "print(f\"장르: {total_genres}\")"
      ],
      "execution_count": 11,
      "outputs": [
        {
          "output_type": "stream",
          "text": [
            "전체 영화 수: 9742\n",
            "장르: ['Romance', '(no genres listed)', 'Mystery', 'War', 'Animation', 'Drama', 'Sci-Fi', 'Western', 'Children', 'Crime', 'Comedy', 'Adventure', 'Horror', 'IMAX', 'Film-Noir', 'Documentary', 'Thriller', 'Action', 'Musical', 'Fantasy']\n"
          ],
          "name": "stdout"
        }
      ]
    },
    {
      "cell_type": "code",
      "metadata": {
        "colab": {
          "base_uri": "https://localhost:8080/"
        },
        "id": "9wrGXx0iDatC",
        "outputId": "8fa39ecf-edd6-4f7e-e923-89eccd2f21a2"
      },
      "source": [
        "\n",
        "print(len(total_genres))"
      ],
      "execution_count": 12,
      "outputs": [
        {
          "output_type": "stream",
          "text": [
            "20\n"
          ],
          "name": "stdout"
        }
      ]
    },
    {
      "cell_type": "code",
      "metadata": {
        "id": "Sbi1SStWDfVm"
      },
      "source": [
        "genre_count = dict.fromkeys(total_genres)\n",
        "\n",
        "for each_genre_list in movies_df['genres']:\n",
        "    for genre in each_genre_list.split('|'):\n",
        "        if genre_count[genre] == None:\n",
        "            genre_count[genre] = 1\n",
        "        else:\n",
        "            genre_count[genre] = genre_count[genre]+1"
      ],
      "execution_count": 13,
      "outputs": []
    },
    {
      "cell_type": "code",
      "metadata": {
        "id": "T2o7wSy_DiIz"
      },
      "source": [
        ""
      ],
      "execution_count": null,
      "outputs": []
    }
  ]
}