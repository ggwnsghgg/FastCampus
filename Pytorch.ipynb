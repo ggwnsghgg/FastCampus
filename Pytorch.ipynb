{
  "nbformat": 4,
  "nbformat_minor": 0,
  "metadata": {
    "colab": {
      "name": "Pytorch.ipynb",
      "provenance": [],
      "authorship_tag": "ABX9TyM3oZzWHdJvr3EUiu3u7f1a",
      "include_colab_link": true
    },
    "kernelspec": {
      "name": "python3",
      "display_name": "Python 3"
    },
    "language_info": {
      "name": "python"
    },
    "accelerator": "GPU"
  },
  "cells": [
    {
      "cell_type": "markdown",
      "metadata": {
        "id": "view-in-github",
        "colab_type": "text"
      },
      "source": [
        "<a href=\"https://colab.research.google.com/github/ggwnsghgg/FastCampus/blob/main/Pytorch.ipynb\" target=\"_parent\"><img src=\"https://colab.research.google.com/assets/colab-badge.svg\" alt=\"Open In Colab\"/></a>"
      ]
    },
    {
      "cell_type": "code",
      "metadata": {
        "colab": {
          "base_uri": "https://localhost:8080/"
        },
        "id": "RzTxZkLXrc7q",
        "outputId": "6c4226c2-c606-4aaa-feed-c0f2e17020eb"
      },
      "source": [
        "!pip list"
      ],
      "execution_count": 2,
      "outputs": [
        {
          "output_type": "stream",
          "text": [
            "Package                       Version       \n",
            "----------------------------- --------------\n",
            "absl-py                       0.10.0        \n",
            "alabaster                     0.7.12        \n",
            "albumentations                0.1.12        \n",
            "altair                        4.1.0         \n",
            "appdirs                       1.4.4         \n",
            "argon2-cffi                   20.1.0        \n",
            "asgiref                       3.3.1         \n",
            "astor                         0.8.1         \n",
            "astropy                       4.2           \n",
            "astunparse                    1.6.3         \n",
            "async-generator               1.10          \n",
            "atari-py                      0.2.6         \n",
            "atomicwrites                  1.4.0         \n",
            "attrs                         20.3.0        \n",
            "audioread                     2.1.9         \n",
            "autograd                      1.3           \n",
            "Babel                         2.9.0         \n",
            "backcall                      0.2.0         \n",
            "beautifulsoup4                4.6.3         \n",
            "bleach                        3.3.0         \n",
            "blis                          0.4.1         \n",
            "bokeh                         2.1.1         \n",
            "Bottleneck                    1.3.2         \n",
            "branca                        0.4.2         \n",
            "bs4                           0.0.1         \n",
            "CacheControl                  0.12.6        \n",
            "cachetools                    4.2.1         \n",
            "catalogue                     1.0.0         \n",
            "certifi                       2020.12.5     \n",
            "cffi                          1.14.5        \n",
            "chainer                       7.4.0         \n",
            "chardet                       3.0.4         \n",
            "click                         7.1.2         \n",
            "cloudpickle                   1.3.0         \n",
            "cmake                         3.12.0        \n",
            "cmdstanpy                     0.9.5         \n",
            "colorlover                    0.3.0         \n",
            "community                     1.0.0b1       \n",
            "contextlib2                   0.5.5         \n",
            "convertdate                   2.3.1         \n",
            "coverage                      3.7.1         \n",
            "coveralls                     0.5           \n",
            "crcmod                        1.7           \n",
            "cufflinks                     0.17.3        \n",
            "cupy-cuda101                  7.4.0         \n",
            "cvxopt                        1.2.6         \n",
            "cvxpy                         1.0.31        \n",
            "cycler                        0.10.0        \n",
            "cymem                         2.0.5         \n",
            "Cython                        0.29.22       \n",
            "daft                          0.0.4         \n",
            "dask                          2.12.0        \n",
            "datascience                   0.10.6        \n",
            "debugpy                       1.0.0         \n",
            "decorator                     4.4.2         \n",
            "defusedxml                    0.7.1         \n",
            "descartes                     1.1.0         \n",
            "dill                          0.3.3         \n",
            "distributed                   1.25.3        \n",
            "Django                        3.1.7         \n",
            "dlib                          19.18.0       \n",
            "dm-tree                       0.1.5         \n",
            "docopt                        0.6.2         \n",
            "docutils                      0.16          \n",
            "dopamine-rl                   1.0.5         \n",
            "earthengine-api               0.1.255       \n",
            "easydict                      1.9           \n",
            "ecos                          2.0.7.post1   \n",
            "editdistance                  0.5.3         \n",
            "en-core-web-sm                2.2.5         \n",
            "entrypoints                   0.3           \n",
            "ephem                         3.7.7.1       \n",
            "et-xmlfile                    1.0.1         \n",
            "fa2                           0.3.5         \n",
            "fancyimpute                   0.4.3         \n",
            "fastai                        1.0.61        \n",
            "fastdtw                       0.3.4         \n",
            "fastprogress                  1.0.0         \n",
            "fastrlock                     0.5           \n",
            "fbprophet                     0.7.1         \n",
            "feather-format                0.4.1         \n",
            "filelock                      3.0.12        \n",
            "firebase-admin                4.4.0         \n",
            "fix-yahoo-finance             0.0.22        \n",
            "Flask                         1.1.2         \n",
            "flatbuffers                   1.12          \n",
            "folium                        0.8.3         \n",
            "future                        0.16.0        \n",
            "gast                          0.3.3         \n",
            "GDAL                          2.2.2         \n",
            "gdown                         3.6.4         \n",
            "gensim                        3.6.0         \n",
            "geographiclib                 1.50          \n",
            "geopy                         1.17.0        \n",
            "gin-config                    0.4.0         \n",
            "glob2                         0.7           \n",
            "google                        2.0.3         \n",
            "google-api-core               1.26.1        \n",
            "google-api-python-client      1.12.8        \n",
            "google-auth                   1.27.1        \n",
            "google-auth-httplib2          0.0.4         \n",
            "google-auth-oauthlib          0.4.3         \n",
            "google-cloud-bigquery         1.21.0        \n",
            "google-cloud-bigquery-storage 1.1.0         \n",
            "google-cloud-core             1.0.3         \n",
            "google-cloud-datastore        1.8.0         \n",
            "google-cloud-firestore        1.7.0         \n",
            "google-cloud-language         1.2.0         \n",
            "google-cloud-storage          1.18.1        \n",
            "google-cloud-translate        1.5.0         \n",
            "google-colab                  1.0.0         \n",
            "google-pasta                  0.2.0         \n",
            "google-resumable-media        0.4.1         \n",
            "googleapis-common-protos      1.53.0        \n",
            "googledrivedownloader         0.4           \n",
            "graphviz                      0.10.1        \n",
            "grpcio                        1.32.0        \n",
            "gspread                       3.0.1         \n",
            "gspread-dataframe             3.0.8         \n",
            "gym                           0.17.3        \n",
            "h5py                          2.10.0        \n",
            "HeapDict                      1.0.1         \n",
            "hijri-converter               2.1.1         \n",
            "holidays                      0.10.5.2      \n",
            "holoviews                     1.13.5        \n",
            "html5lib                      1.0.1         \n",
            "httpimport                    0.5.18        \n",
            "httplib2                      0.17.4        \n",
            "httplib2shim                  0.0.3         \n",
            "humanize                      0.5.1         \n",
            "hyperopt                      0.1.2         \n",
            "ideep4py                      2.0.0.post3   \n",
            "idna                          2.10          \n",
            "image                         1.5.33        \n",
            "imageio                       2.4.1         \n",
            "imagesize                     1.2.0         \n",
            "imbalanced-learn              0.4.3         \n",
            "imblearn                      0.0           \n",
            "imgaug                        0.2.9         \n",
            "importlib-metadata            3.7.2         \n",
            "importlib-resources           5.1.2         \n",
            "imutils                       0.5.4         \n",
            "inflect                       2.1.0         \n",
            "iniconfig                     1.1.1         \n",
            "intel-openmp                  2021.1.2      \n",
            "intervaltree                  2.1.0         \n",
            "ipykernel                     4.10.1        \n",
            "ipython                       5.5.0         \n",
            "ipython-genutils              0.2.0         \n",
            "ipython-sql                   0.3.9         \n",
            "ipywidgets                    7.6.3         \n",
            "itsdangerous                  1.1.0         \n",
            "jax                           0.2.10        \n",
            "jaxlib                        0.1.62+cuda110\n",
            "jdcal                         1.4.1         \n",
            "jedi                          0.18.0        \n",
            "jieba                         0.42.1        \n",
            "Jinja2                        2.11.3        \n",
            "joblib                        1.0.1         \n",
            "jpeg4py                       0.1.4         \n",
            "jsonschema                    2.6.0         \n",
            "jupyter                       1.0.0         \n",
            "jupyter-client                5.3.5         \n",
            "jupyter-console               5.2.0         \n",
            "jupyter-core                  4.7.1         \n",
            "jupyterlab-pygments           0.1.2         \n",
            "jupyterlab-widgets            1.0.0         \n",
            "kaggle                        1.5.10        \n",
            "kapre                         0.1.3.1       \n",
            "Keras                         2.4.3         \n",
            "Keras-Preprocessing           1.1.2         \n",
            "keras-vis                     0.4.1         \n",
            "kiwisolver                    1.3.1         \n",
            "knnimpute                     0.1.0         \n",
            "korean-lunar-calendar         0.2.1         \n",
            "librosa                       0.8.0         \n",
            "lightgbm                      2.2.3         \n",
            "llvmlite                      0.34.0        \n",
            "lmdb                          0.99          \n",
            "lucid                         0.3.8         \n",
            "LunarCalendar                 0.0.9         \n",
            "lxml                          4.2.6         \n",
            "Markdown                      3.3.4         \n",
            "MarkupSafe                    1.1.1         \n",
            "matplotlib                    3.2.2         \n",
            "matplotlib-venn               0.11.6        \n",
            "missingno                     0.4.2         \n",
            "mistune                       0.8.4         \n",
            "mizani                        0.6.0         \n",
            "mkl                           2019.0        \n",
            "mlxtend                       0.14.0        \n",
            "more-itertools                8.7.0         \n",
            "moviepy                       0.2.3.5       \n",
            "mpmath                        1.2.1         \n",
            "msgpack                       1.0.2         \n",
            "multiprocess                  0.70.11.1     \n",
            "multitasking                  0.0.9         \n",
            "murmurhash                    1.0.5         \n",
            "music21                       5.5.0         \n",
            "natsort                       5.5.0         \n",
            "nbclient                      0.5.3         \n",
            "nbconvert                     5.6.1         \n",
            "nbformat                      5.1.2         \n",
            "nest-asyncio                  1.5.1         \n",
            "networkx                      2.5           \n",
            "nibabel                       3.0.2         \n",
            "nltk                          3.2.5         \n",
            "notebook                      5.3.1         \n",
            "np-utils                      0.5.12.1      \n",
            "numba                         0.51.2        \n",
            "numexpr                       2.7.3         \n",
            "numpy                         1.19.5        \n",
            "nvidia-ml-py3                 7.352.0       \n",
            "oauth2client                  4.1.3         \n",
            "oauthlib                      3.1.0         \n",
            "okgrade                       0.4.3         \n",
            "opencv-contrib-python         4.1.2.30      \n",
            "opencv-python                 4.1.2.30      \n",
            "openpyxl                      2.5.9         \n",
            "opt-einsum                    3.3.0         \n",
            "osqp                          0.6.2.post0   \n",
            "packaging                     20.9          \n",
            "palettable                    3.3.0         \n",
            "pandas                        1.1.5         \n",
            "pandas-datareader             0.9.0         \n",
            "pandas-gbq                    0.13.3        \n",
            "pandas-profiling              1.4.1         \n",
            "pandocfilters                 1.4.3         \n",
            "panel                         0.9.7         \n",
            "param                         1.10.1        \n",
            "parso                         0.8.1         \n",
            "pathlib                       1.0.1         \n",
            "patsy                         0.5.1         \n",
            "pexpect                       4.8.0         \n",
            "pickleshare                   0.7.5         \n",
            "Pillow                        7.0.0         \n",
            "pip                           19.3.1        \n",
            "pip-tools                     4.5.1         \n",
            "plac                          1.1.3         \n",
            "plotly                        4.4.1         \n",
            "plotnine                      0.6.0         \n",
            "pluggy                        0.7.1         \n",
            "pooch                         1.3.0         \n",
            "portpicker                    1.3.1         \n",
            "prefetch-generator            1.0.1         \n",
            "preshed                       3.0.5         \n",
            "prettytable                   2.1.0         \n",
            "progressbar2                  3.38.0        \n",
            "prometheus-client             0.9.0         \n",
            "promise                       2.3           \n",
            "prompt-toolkit                1.0.18        \n",
            "protobuf                      3.12.4        \n",
            "psutil                        5.4.8         \n",
            "psycopg2                      2.7.6.1       \n",
            "ptyprocess                    0.7.0         \n",
            "py                            1.10.0        \n",
            "pyarrow                       3.0.0         \n",
            "pyasn1                        0.4.8         \n",
            "pyasn1-modules                0.2.8         \n",
            "pycocotools                   2.0.2         \n",
            "pycparser                     2.20          \n",
            "pyct                          0.4.8         \n",
            "pydata-google-auth            1.1.0         \n",
            "pydot                         1.3.0         \n",
            "pydot-ng                      2.0.0         \n",
            "pydotplus                     2.0.2         \n",
            "PyDrive                       1.3.1         \n",
            "pyemd                         0.5.1         \n",
            "pyerfa                        1.7.2         \n",
            "pyglet                        1.5.0         \n",
            "Pygments                      2.6.1         \n",
            "pygobject                     3.26.1        \n",
            "pymc3                         3.7           \n",
            "PyMeeus                       0.5.9         \n",
            "pymongo                       3.11.3        \n",
            "pymystem3                     0.2.0         \n",
            "pynndescent                   0.5.2         \n",
            "PyOpenGL                      3.1.5         \n",
            "pyparsing                     2.4.7         \n",
            "pyrsistent                    0.17.3        \n",
            "pysndfile                     1.3.8         \n",
            "PySocks                       1.7.1         \n",
            "pystan                        2.19.1.1      \n",
            "pytest                        3.6.4         \n",
            "python-apt                    0.0.0         \n",
            "python-chess                  0.23.11       \n",
            "python-dateutil               2.8.1         \n",
            "python-louvain                0.15          \n",
            "python-slugify                4.0.1         \n",
            "python-utils                  2.5.6         \n",
            "pytz                          2018.9        \n",
            "pyviz-comms                   2.0.1         \n",
            "PyWavelets                    1.1.1         \n",
            "PyYAML                        3.13          \n",
            "pyzmq                         22.0.3        \n",
            "qdldl                         0.1.5.post0   \n",
            "qtconsole                     5.0.3         \n",
            "QtPy                          1.9.0         \n",
            "regex                         2019.12.20    \n",
            "requests                      2.23.0        \n",
            "requests-oauthlib             1.3.0         \n",
            "resampy                       0.2.2         \n",
            "retrying                      1.3.3         \n",
            "rpy2                          3.4.2         \n",
            "rsa                           4.7.2         \n",
            "scikit-image                  0.16.2        \n",
            "scikit-learn                  0.22.2.post1  \n",
            "scipy                         1.4.1         \n",
            "screen-resolution-extra       0.0.0         \n",
            "scs                           2.1.2         \n",
            "seaborn                       0.11.1        \n",
            "Send2Trash                    1.5.0         \n",
            "setuptools                    54.1.2        \n",
            "setuptools-git                1.2           \n",
            "Shapely                       1.7.1         \n",
            "simplegeneric                 0.8.1         \n",
            "six                           1.15.0        \n",
            "sklearn                       0.0           \n",
            "sklearn-pandas                1.8.0         \n",
            "smart-open                    4.2.0         \n",
            "snowballstemmer               2.1.0         \n",
            "sortedcontainers              2.3.0         \n",
            "SoundFile                     0.10.3.post1  \n",
            "spacy                         2.2.4         \n",
            "Sphinx                        1.8.5         \n",
            "sphinxcontrib-serializinghtml 1.1.4         \n",
            "sphinxcontrib-websupport      1.2.4         \n",
            "SQLAlchemy                    1.3.23        \n",
            "sqlparse                      0.4.1         \n",
            "srsly                         1.0.5         \n",
            "statsmodels                   0.10.2        \n",
            "sympy                         1.7.1         \n",
            "tables                        3.4.4         \n",
            "tabulate                      0.8.9         \n",
            "tblib                         1.7.0         \n",
            "tensorboard                   2.4.1         \n",
            "tensorboard-plugin-wit        1.8.0         \n",
            "tensorflow                    2.4.1         \n",
            "tensorflow-datasets           4.0.1         \n",
            "tensorflow-estimator          2.4.0         \n",
            "tensorflow-gcs-config         2.4.0         \n",
            "tensorflow-hub                0.11.0        \n",
            "tensorflow-metadata           0.28.0        \n",
            "tensorflow-probability        0.12.1        \n",
            "termcolor                     1.1.0         \n",
            "terminado                     0.9.2         \n",
            "testpath                      0.4.4         \n",
            "text-unidecode                1.3           \n",
            "textblob                      0.15.3        \n",
            "textgenrnn                    1.4.1         \n",
            "Theano                        1.0.5         \n",
            "thinc                         7.4.0         \n",
            "tifffile                      2021.3.17     \n",
            "toml                          0.10.2        \n",
            "toolz                         0.11.1        \n",
            "torch                         1.8.0+cu101   \n",
            "torchsummary                  1.5.1         \n",
            "torchtext                     0.9.0         \n",
            "torchvision                   0.9.0+cu101   \n",
            "tornado                       5.1.1         \n",
            "tqdm                          4.41.1        \n",
            "traitlets                     5.0.5         \n",
            "tweepy                        3.10.0        \n",
            "typeguard                     2.7.1         \n",
            "typing-extensions             3.7.4.3       \n",
            "tzlocal                       1.5.1         \n",
            "umap-learn                    0.5.1         \n",
            "uritemplate                   3.0.1         \n",
            "urllib3                       1.24.3        \n",
            "vega-datasets                 0.9.0         \n",
            "wasabi                        0.8.2         \n",
            "wcwidth                       0.2.5         \n",
            "webencodings                  0.5.1         \n",
            "Werkzeug                      1.0.1         \n",
            "wheel                         0.36.2        \n",
            "widgetsnbextension            3.5.1         \n",
            "wordcloud                     1.5.0         \n",
            "wrapt                         1.12.1        \n",
            "xarray                        0.15.1        \n",
            "xgboost                       0.90          \n",
            "xkit                          0.0.0         \n",
            "xlrd                          1.1.0         \n",
            "xlwt                          1.3.0         \n",
            "yellowbrick                   0.9.1         \n",
            "zict                          2.0.0         \n",
            "zipp                          3.4.1         \n"
          ],
          "name": "stdout"
        }
      ]
    },
    {
      "cell_type": "markdown",
      "metadata": {
        "id": "luZgw8RXpo-G"
      },
      "source": [
        "\n",
        "##Pytorch Basics\n",
        "- Stevens, Antiga and Viehmann (2020), \"Deep Learning with PyTorch\" 참고\n",
        "- PyTorch tutorial website 참고(https://tutorials.pytorch.kr/beginner/deep_learning_60min_blitz.html)\n",
        "##PyTorch\n",
        "-provides multidimensional arrays\n",
        "- tensors, and an extensive library of operations on them"
      ]
    },
    {
      "cell_type": "code",
      "metadata": {
        "id": "VthQ8Zjmoy0z"
      },
      "source": [
        "# torch가 설치되어 있지 않다면\n",
        "# https://pytorch.org 에서 환경에 맞는 command로 설치하거나\n",
        "# !pip install torch\n",
        "# 또는 !pip3 install torch (Python3 환경임을 명시)\n",
        "\n",
        "import torch"
      ],
      "execution_count": 3,
      "outputs": []
    },
    {
      "cell_type": "markdown",
      "metadata": {
        "id": "CZ_oCBhmrpaJ"
      },
      "source": [
        "\n",
        "# 1. Tensor란? Tensor 만들기\n",
        "- Tensors: Multidimensional arrays"
      ]
    },
    {
      "cell_type": "code",
      "metadata": {
        "colab": {
          "base_uri": "https://localhost:8080/"
        },
        "id": "rsowYAZEo6oU",
        "outputId": "e532e858-9185-46e9-dd2c-b90038813b5f"
      },
      "source": [
        "# Create a torch.Tensor object with the given data.  It is a 1D vector\n",
        "V_data = [1., 2., 3.]\n",
        "V = torch.Tensor(V_data)\n",
        "print(V)\n",
        "\n",
        "# Creates a matrix\n",
        "M_data = [[1., 2., 3.], [4., 5., 6]]\n",
        "M = torch.Tensor(M_data)\n",
        "print(M)\n",
        "\n",
        "# Create a 3D tensor of size 2x2x2.\n",
        "T_data = [[[1.,2.], [3.,4.]],\n",
        "          [[5.,6.], [7.,8.]]]\n",
        "T = torch.Tensor(T_data)\n",
        "print(T)"
      ],
      "execution_count": 4,
      "outputs": [
        {
          "output_type": "stream",
          "text": [
            "tensor([1., 2., 3.])\n",
            "tensor([[1., 2., 3.],\n",
            "        [4., 5., 6.]])\n",
            "tensor([[[1., 2.],\n",
            "         [3., 4.]],\n",
            "\n",
            "        [[5., 6.],\n",
            "         [7., 8.]]])\n"
          ],
          "name": "stdout"
        }
      ]
    },
    {
      "cell_type": "code",
      "metadata": {
        "colab": {
          "base_uri": "https://localhost:8080/"
        },
        "id": "lnOLaiWUo_ZB",
        "outputId": "1cc3ba97-a773-411e-a27f-d99c6ecfcf6a"
      },
      "source": [
        "# torch.ones: tensor를 size에 맞게 1로 채운다\n",
        "a = torch.ones(3)\n",
        "print(a)\n",
        "\n",
        "b = torch.ones(2, 3)\n",
        "print(b)"
      ],
      "execution_count": 5,
      "outputs": [
        {
          "output_type": "stream",
          "text": [
            "tensor([1., 1., 1.])\n",
            "tensor([[1., 1., 1.],\n",
            "        [1., 1., 1.]])\n"
          ],
          "name": "stdout"
        }
      ]
    },
    {
      "cell_type": "code",
      "metadata": {
        "colab": {
          "base_uri": "https://localhost:8080/"
        },
        "id": "NvHc3FSapA2D",
        "outputId": "26b3ed2f-11a6-45a6-dfe8-044b661b2fc5"
      },
      "source": [
        "# torch.zeros: tensor를 size에 맞게 0으로 채운다\n",
        "c = torch.zeros(4)\n",
        "print(c)\n",
        "\n",
        "d = torch.zeros(5, 2, 3)\n",
        "print(d)"
      ],
      "execution_count": 6,
      "outputs": [
        {
          "output_type": "stream",
          "text": [
            "tensor([0., 0., 0., 0.])\n",
            "tensor([[[0., 0., 0.],\n",
            "         [0., 0., 0.]],\n",
            "\n",
            "        [[0., 0., 0.],\n",
            "         [0., 0., 0.]],\n",
            "\n",
            "        [[0., 0., 0.],\n",
            "         [0., 0., 0.]],\n",
            "\n",
            "        [[0., 0., 0.],\n",
            "         [0., 0., 0.]],\n",
            "\n",
            "        [[0., 0., 0.],\n",
            "         [0., 0., 0.]]])\n"
          ],
          "name": "stdout"
        }
      ]
    },
    {
      "cell_type": "code",
      "metadata": {
        "colab": {
          "base_uri": "https://localhost:8080/"
        },
        "id": "bCp3lwUapEwS",
        "outputId": "9ff926bf-3815-4cf8-c972-70f42b786f92"
      },
      "source": [
        "# 초기화하면서 현재 메모리에 존재하는 값\n",
        "x = torch.empty(5, 3)\n",
        "print(x)\n",
        "\n",
        "x = torch.rand(5, 3)\n",
        "print(x)"
      ],
      "execution_count": 7,
      "outputs": [
        {
          "output_type": "stream",
          "text": [
            "tensor([[1.9045e-22, 3.0928e-41, 3.3631e-44],\n",
            "        [0.0000e+00,        nan, 0.0000e+00],\n",
            "        [1.1578e+27, 1.1362e+30, 7.1547e+22],\n",
            "        [4.5828e+30, 1.2121e+04, 7.1846e+22],\n",
            "        [9.2198e-39, 7.0374e+22, 0.0000e+00]])\n",
            "tensor([[0.9888, 0.0764, 0.7371],\n",
            "        [0.8579, 0.4440, 0.8651],\n",
            "        [0.2642, 0.9069, 0.2739],\n",
            "        [0.3667, 0.8247, 0.1581],\n",
            "        [0.0096, 0.5804, 0.2070]])\n"
          ],
          "name": "stdout"
        }
      ]
    },
    {
      "cell_type": "code",
      "metadata": {
        "colab": {
          "base_uri": "https://localhost:8080/"
        },
        "id": "SxxDInnypObm",
        "outputId": "6ad3973a-d243-4f5c-866d-dc59750b7d90"
      },
      "source": [
        "# torch.rand: 랜덤 숫자로 tensor를 채운다\n",
        "rand_points = torch.rand(4, dtype=torch.double)\n",
        "print(rand_points)\n",
        "\n",
        "rand_points_2 = torch.rand(2, 3, dtype=torch.float)\n",
        "print(rand_points_2)"
      ],
      "execution_count": 8,
      "outputs": [
        {
          "output_type": "stream",
          "text": [
            "tensor([0.9045, 0.5214, 0.6733, 0.1879], dtype=torch.float64)\n",
            "tensor([[0.6418, 0.4700, 0.9388],\n",
            "        [0.2220, 0.5901, 0.1236]])\n"
          ],
          "name": "stdout"
        }
      ]
    },
    {
      "cell_type": "code",
      "metadata": {
        "colab": {
          "base_uri": "https://localhost:8080/"
        },
        "id": "0ImRlpxDpP0m",
        "outputId": "2ecf485c-8c51-472d-8ca4-2708ed0bedff"
      },
      "source": [
        "# 행렬 사이즈\n",
        "print(rand_points_2.size())"
      ],
      "execution_count": 9,
      "outputs": [
        {
          "output_type": "stream",
          "text": [
            "torch.Size([2, 3])\n"
          ],
          "name": "stdout"
        }
      ]
    },
    {
      "cell_type": "code",
      "metadata": {
        "colab": {
          "base_uri": "https://localhost:8080/"
        },
        "id": "OdrX3HvwpSKe",
        "outputId": "0e1adafd-acb6-4612-f813-486ee4438ce3"
      },
      "source": [
        "temp = torch.Tensor([0, 1, 2, 3, 4, 5, 6, 7])\n",
        "\n",
        "print(temp[:]) # tensor element 전체\n",
        "print(temp[1:4]) # index 1과 4 사이의 원소들 출력\n",
        "print(temp[1:]) # index 1부터의 원소들 출력\n",
        "print(temp[:4]) # index 4까지의 원소들 출력\n",
        "print(temp[-1]) # 뒤에서 첫번째 원소 출력\n",
        "print(temp[:-1]) # index -1 = 뒤에서부터 index 1에 해당하는 원소까지만 출력\n",
        "print(temp[1:6:2]) # index 1과 6 사이의 원소 출력, 이때 2개 단위로 건너뛰면서"
      ],
      "execution_count": 10,
      "outputs": [
        {
          "output_type": "stream",
          "text": [
            "tensor([0., 1., 2., 3., 4., 5., 6., 7.])\n",
            "tensor([1., 2., 3.])\n",
            "tensor([1., 2., 3., 4., 5., 6., 7.])\n",
            "tensor([0., 1., 2., 3.])\n",
            "tensor(7.)\n",
            "tensor([0., 1., 2., 3., 4., 5., 6.])\n",
            "tensor([1., 3., 5.])\n"
          ],
          "name": "stdout"
        }
      ]
    },
    {
      "cell_type": "code",
      "metadata": {
        "colab": {
          "base_uri": "https://localhost:8080/"
        },
        "id": "BnvImOgVpTw6",
        "outputId": "50aacf5a-9bf0-4bce-b3b5-9d9e5708b954"
      },
      "source": [
        "temp2 = torch.Tensor([[1, 2, 3], [4, 5, 6]])\n",
        "\n",
        "print(temp2)\n",
        "print(temp2[1:])\n",
        "print(temp2[1:, 1:])\n",
        "print(temp2[1:, 0])"
      ],
      "execution_count": 11,
      "outputs": [
        {
          "output_type": "stream",
          "text": [
            "tensor([[1., 2., 3.],\n",
            "        [4., 5., 6.]])\n",
            "tensor([[4., 5., 6.]])\n",
            "tensor([[5., 6.]])\n",
            "tensor([4.])\n"
          ],
          "name": "stdout"
        }
      ]
    },
    {
      "cell_type": "markdown",
      "metadata": {
        "id": "pIV8BCOapm_G"
      },
      "source": [
        "\n",
        "3. Tensor element types\n",
        "add 'dtype' argument to tensor constructors\n",
        "\n",
        "-> specify the data type that will be contained in the tensor\n",
        "\n",
        "dtype을 구성하는 것:\n",
        "\n",
        "possible values the tensor can hold (int, float, ...)\n",
        "number of bytes per value (8, 16, 32, ...)\n",
        "예)\n",
        "\n",
        "torch.float32 (= torch.float): 32-bit floating point\n",
        "\n",
        "torch.float64 (= torch.double): 64-bit, double-precision floating point\n",
        "\n",
        "torch.float16 (= torch.half): 16-bit, half-precision floating point\n",
        "\n",
        "torch.int32 (= torch.int): 32-bit integers\n",
        "\n",
        "torch.int64 (= torch.long): 64-bit integers\n",
        "\n",
        "torch.bool: Boolean"
      ]
    },
    {
      "cell_type": "code",
      "metadata": {
        "colab": {
          "base_uri": "https://localhost:8080/"
        },
        "id": "MaFpRdhSpnzl",
        "outputId": "ade26e3a-547c-40e0-ab13-d1aab4b6cc9b"
      },
      "source": [
        "float_points = torch.ones(5, 2, dtype=torch.float32)\n",
        "int_points = torch.zeros(3, dtype=torch.int64)\n",
        "\n",
        "print(float_points)\n",
        "print(int_points)"
      ],
      "execution_count": 12,
      "outputs": [
        {
          "output_type": "stream",
          "text": [
            "tensor([[1., 1.],\n",
            "        [1., 1.],\n",
            "        [1., 1.],\n",
            "        [1., 1.],\n",
            "        [1., 1.]])\n",
            "tensor([0, 0, 0])\n"
          ],
          "name": "stdout"
        }
      ]
    },
    {
      "cell_type": "code",
      "metadata": {
        "colab": {
          "base_uri": "https://localhost:8080/"
        },
        "id": "RAbTdmLWp1oZ",
        "outputId": "e8d7f99a-47f8-4c5a-a7b9-201fa31977d8"
      },
      "source": [
        "# default: float\n",
        "default_points = torch.Tensor([2, 2])\n",
        "print(default_points)"
      ],
      "execution_count": 13,
      "outputs": [
        {
          "output_type": "stream",
          "text": [
            "tensor([2., 2.])\n"
          ],
          "name": "stdout"
        }
      ]
    },
    {
      "cell_type": "code",
      "metadata": {
        "colab": {
          "base_uri": "https://localhost:8080/"
        },
        "id": "qa9rM7q1p3_y",
        "outputId": "1ac92b06-08ef-4ec0-bda7-566b33e2e1e3"
      },
      "source": [
        "# find out dtype\n",
        "print(float_points.dtype)\n",
        "print(int_points.dtype)\n",
        "print(default_points.dtype)"
      ],
      "execution_count": 14,
      "outputs": [
        {
          "output_type": "stream",
          "text": [
            "torch.float32\n",
            "torch.int64\n",
            "torch.float32\n"
          ],
          "name": "stdout"
        }
      ]
    },
    {
      "cell_type": "code",
      "metadata": {
        "colab": {
          "base_uri": "https://localhost:8080/"
        },
        "id": "c--FoHPpp5oT",
        "outputId": "85aa33cd-eb8b-42d0-8349-77bb328c2560"
      },
      "source": [
        "# other forms of specifying dtype\n",
        "\n",
        "to_int_1 = float_points.int()\n",
        "print(to_int_1.dtype)\n",
        "\n",
        "# 'to' checks whether the conversion is necessary and if so, does it.\n",
        "to_int_2 = float_points.to(torch.int64)\n",
        "print(to_int_2.dtype)\n",
        "\n",
        "to_float_1 = int_points.float()\n",
        "print(to_float_1.dtype)\n",
        "\n",
        "to_float_2 = int_points.to(dtype=torch.float16)\n",
        "print(to_float_2.dtype)"
      ],
      "execution_count": 15,
      "outputs": [
        {
          "output_type": "stream",
          "text": [
            "torch.int32\n",
            "torch.int64\n",
            "torch.float32\n",
            "torch.float16\n"
          ],
          "name": "stdout"
        }
      ]
    },
    {
      "cell_type": "markdown",
      "metadata": {
        "id": "g2YH4mm-p79t"
      },
      "source": [
        "\n",
        "# 4. The Tensor API\n",
        "tensor와 관련된 대부분의 operation은 torch 모듈에 구현되어 있음\n",
        "\n",
        "예)\n",
        "\n",
        "- math operations: abs, cos, mean, std, norm, equal, max, ...\n",
        "- tensor element-wise sum, concat, ...\n",
        "- random sampling: randn, normal, ...\n",
        "online docs: https://pytorch.org/docs"
      ]
    },
    {
      "cell_type": "markdown",
      "metadata": {
        "id": "_EJ_nYj6qC9g"
      },
      "source": [
        "# 5. Tensor Shape and Reshape"
      ]
    },
    {
      "cell_type": "code",
      "metadata": {
        "colab": {
          "base_uri": "https://localhost:8080/"
        },
        "id": "ThIFCuNop7It",
        "outputId": "0766de01-14ce-4c08-ab19-3bc118ff25df"
      },
      "source": [
        "\n",
        "# shape: Returns the size of the tensor\n",
        "\n",
        "a = torch.Tensor([[1, 2, 3], [4, 5, 6]])\n",
        "\n",
        "print(a)\n",
        "print(a.shape)"
      ],
      "execution_count": 16,
      "outputs": [
        {
          "output_type": "stream",
          "text": [
            "tensor([[1., 2., 3.],\n",
            "        [4., 5., 6.]])\n",
            "torch.Size([2, 3])\n"
          ],
          "name": "stdout"
        }
      ]
    },
    {
      "cell_type": "code",
      "metadata": {
        "colab": {
          "base_uri": "https://localhost:8080/"
        },
        "id": "LQhNqaK5qKDu",
        "outputId": "ccc9673c-1cdf-43b3-aaa1-fbdb369be162"
      },
      "source": [
        "# size()\n",
        "\n",
        "print(a.size())"
      ],
      "execution_count": 17,
      "outputs": [
        {
          "output_type": "stream",
          "text": [
            "torch.Size([2, 3])\n"
          ],
          "name": "stdout"
        }
      ]
    },
    {
      "cell_type": "code",
      "metadata": {
        "colab": {
          "base_uri": "https://localhost:8080/"
        },
        "id": "eaKboLqWqMSM",
        "outputId": "469af2d4-925a-4107-e23d-5f94430d4a41"
      },
      "source": [
        "# Reshape: 주어진 shape로 original tensor에서 데이터를 가져와서 reshape한다\n",
        "\n",
        "a_reshape = a.reshape(3, 2)\n",
        "print(a_reshape)\n",
        "print(a_reshape.shape)\n",
        "\n",
        "a_reshape_2 = a.reshape(-1, 2) # the size -1 is inferred from other dimensions\n",
        "print(a_reshape_2)\n",
        "print(a_reshape_2.shape)"
      ],
      "execution_count": 18,
      "outputs": [
        {
          "output_type": "stream",
          "text": [
            "tensor([[1., 2.],\n",
            "        [3., 4.],\n",
            "        [5., 6.]])\n",
            "torch.Size([3, 2])\n",
            "tensor([[1., 2.],\n",
            "        [3., 4.],\n",
            "        [5., 6.]])\n",
            "torch.Size([3, 2])\n"
          ],
          "name": "stdout"
        }
      ]
    },
    {
      "cell_type": "code",
      "metadata": {
        "colab": {
          "base_uri": "https://localhost:8080/",
          "height": 223
        },
        "id": "wGXyKJsvqO_0",
        "outputId": "c1cb5121-b620-400d-b402-3972e8af3c0a"
      },
      "source": [
        "# if shape is not compatible with the current shape:\n",
        "a_no_reshape = a.reshape(4, 2) # index 값 부족 if shape is not compatible with the current shape:\n",
        "a_no_reshape = a.reshape(4, 2) # index 값 부족\n",
        "\n"
      ],
      "execution_count": 19,
      "outputs": [
        {
          "output_type": "error",
          "ename": "RuntimeError",
          "evalue": "ignored",
          "traceback": [
            "\u001b[0;31m---------------------------------------------------------------------------\u001b[0m",
            "\u001b[0;31mRuntimeError\u001b[0m                              Traceback (most recent call last)",
            "\u001b[0;32m<ipython-input-19-8b9ee6c535fb>\u001b[0m in \u001b[0;36m<module>\u001b[0;34m()\u001b[0m\n\u001b[1;32m      1\u001b[0m \u001b[0;31m# if shape is not compatible with the current shape:\u001b[0m\u001b[0;34m\u001b[0m\u001b[0;34m\u001b[0m\u001b[0;34m\u001b[0m\u001b[0m\n\u001b[0;32m----> 2\u001b[0;31m \u001b[0ma_no_reshape\u001b[0m \u001b[0;34m=\u001b[0m \u001b[0ma\u001b[0m\u001b[0;34m.\u001b[0m\u001b[0mreshape\u001b[0m\u001b[0;34m(\u001b[0m\u001b[0;36m4\u001b[0m\u001b[0;34m,\u001b[0m \u001b[0;36m2\u001b[0m\u001b[0;34m)\u001b[0m \u001b[0;31m# index 값 부족 if shape is not compatible with the current shape:\u001b[0m\u001b[0;34m\u001b[0m\u001b[0;34m\u001b[0m\u001b[0m\n\u001b[0m\u001b[1;32m      3\u001b[0m \u001b[0ma_no_reshape\u001b[0m \u001b[0;34m=\u001b[0m \u001b[0ma\u001b[0m\u001b[0;34m.\u001b[0m\u001b[0mreshape\u001b[0m\u001b[0;34m(\u001b[0m\u001b[0;36m4\u001b[0m\u001b[0;34m,\u001b[0m \u001b[0;36m2\u001b[0m\u001b[0;34m)\u001b[0m \u001b[0;31m# index 값 부족\u001b[0m\u001b[0;34m\u001b[0m\u001b[0;34m\u001b[0m\u001b[0m\n\u001b[1;32m      4\u001b[0m \u001b[0;34m\u001b[0m\u001b[0m\n",
            "\u001b[0;31mRuntimeError\u001b[0m: shape '[4, 2]' is invalid for input of size 6"
          ]
        }
      ]
    },
    {
      "cell_type": "code",
      "metadata": {
        "colab": {
          "base_uri": "https://localhost:8080/"
        },
        "id": "1xC6Bpm4qRm4",
        "outputId": "09f9c930-4b11-42ea-f3d9-8ff8c5d564f5"
      },
      "source": [
        "\n",
        "# View: Returns a new tensor with the same data as the original tensor but of a different shape.\n",
        "# reshape과 거의 비슷하게 사용\n",
        "\n",
        "x = torch.randn(4, 4)\n",
        "print(x.size())\n",
        "\n",
        "y = x.view(16)\n",
        "print(y.size())\n",
        "\n",
        "z = x.view(-1, 8)  # the size -1 is inferred from other dimensions\n",
        "print(z.size())"
      ],
      "execution_count": 20,
      "outputs": [
        {
          "output_type": "stream",
          "text": [
            "torch.Size([4, 4])\n",
            "torch.Size([16])\n",
            "torch.Size([2, 8])\n"
          ],
          "name": "stdout"
        }
      ]
    },
    {
      "cell_type": "code",
      "metadata": {
        "colab": {
          "base_uri": "https://localhost:8080/"
        },
        "id": "x3Ca2W-XvpJT",
        "outputId": "ad9960fe-39e7-4754-e76a-9c9f83e1ccdd"
      },
      "source": [
        "print(x)\n",
        "\n",
        "print()\n",
        "print(\"--------\")\n",
        "print()\n",
        "\n",
        "print(y)\n",
        "\n",
        "print()\n",
        "print(\"--------\")\n",
        "print()\n",
        "\n",
        "print(z)"
      ],
      "execution_count": 21,
      "outputs": [
        {
          "output_type": "stream",
          "text": [
            "tensor([[ 0.8478, -0.4487, -1.5874,  1.1287],\n",
            "        [-0.0567, -3.0185, -1.9602,  1.9079],\n",
            "        [ 1.9861, -0.9342,  1.1133,  0.5008],\n",
            "        [ 0.7589, -1.5726, -0.4976,  0.2565]])\n",
            "\n",
            "--------\n",
            "\n",
            "tensor([ 0.8478, -0.4487, -1.5874,  1.1287, -0.0567, -3.0185, -1.9602,  1.9079,\n",
            "         1.9861, -0.9342,  1.1133,  0.5008,  0.7589, -1.5726, -0.4976,  0.2565])\n",
            "\n",
            "--------\n",
            "\n",
            "tensor([[ 0.8478, -0.4487, -1.5874,  1.1287, -0.0567, -3.0185, -1.9602,  1.9079],\n",
            "        [ 1.9861, -0.9342,  1.1133,  0.5008,  0.7589, -1.5726, -0.4976,  0.2565]])\n"
          ],
          "name": "stdout"
        }
      ]
    },
    {
      "cell_type": "code",
      "metadata": {
        "colab": {
          "base_uri": "https://localhost:8080/",
          "height": 134
        },
        "id": "L3Tb8x_rqUAj",
        "outputId": "8168f44a-9d16-43af-f5db-b63ce70de088"
      },
      "source": [
        "# torch.t: 가장 간단한 형태의 transpose\n",
        "# Expects input to be <= 2-D tensor and transposes dimensions 0 and 1.\n",
        "# 0-D and 1-D tensors are returned as is. When input is a 2-D tensor this is equivalent to transpose(input, 0, 1).\n",
        "\n",
        "x = torch.randn(1)\n",
        "print(x)\n",
        "print(torch.t(x))\n",
        "\n",
        "y = torch.randn(3)\n",
        "print(y)x   \n",
        "print(y.t())\n",
        "\n",
        "z = torch.randn(2, 3)\n",
        "print(z)\n",
        "print(torch.t(z))"
      ],
      "execution_count": 22,
      "outputs": [
        {
          "output_type": "error",
          "ename": "SyntaxError",
          "evalue": "ignored",
          "traceback": [
            "\u001b[0;36m  File \u001b[0;32m\"<ipython-input-22-d2f02f41cee7>\"\u001b[0;36m, line \u001b[0;32m10\u001b[0m\n\u001b[0;31m    print(y)x\u001b[0m\n\u001b[0m            ^\u001b[0m\n\u001b[0;31mSyntaxError\u001b[0m\u001b[0;31m:\u001b[0m invalid syntax\n"
          ]
        }
      ]
    },
    {
      "cell_type": "code",
      "metadata": {
        "colab": {
          "base_uri": "https://localhost:8080/"
        },
        "id": "vOkgHhnsqVtL",
        "outputId": "c7fb4930-4337-4281-e233-61fc203c299c"
      },
      "source": [
        "# torch.transpose\n",
        "# Returns a tensor that is a transposed version of input. The given dimensions dim0 and dim1 are swapped.\n",
        "\n",
        "w = torch.randn(2, 3)\n",
        "print(w)\n",
        "print(torch.transpose(w, 0, 1))"
      ],
      "execution_count": 23,
      "outputs": [
        {
          "output_type": "stream",
          "text": [
            "tensor([[ 1.3592,  0.4821,  1.6673],\n",
            "        [-0.1554,  0.9784,  0.7799]])\n",
            "tensor([[ 1.3592, -0.1554],\n",
            "        [ 0.4821,  0.9784],\n",
            "        [ 1.6673,  0.7799]])\n"
          ],
          "name": "stdout"
        }
      ]
    },
    {
      "cell_type": "code",
      "metadata": {
        "colab": {
          "base_uri": "https://localhost:8080/"
        },
        "id": "x5Xfv8mtqXDr",
        "outputId": "8b99104d-2400-41f4-af1f-c1f60d642fd4"
      },
      "source": [
        "# more complex case\n",
        "\n",
        "real_example = torch.randn(64, 128, 768)\n",
        "print(real_example.shape)\n",
        "transposed = torch.transpose(real_example, 1, 2)\n",
        "print(transposed.shape)"
      ],
      "execution_count": 24,
      "outputs": [
        {
          "output_type": "stream",
          "text": [
            "torch.Size([64, 128, 768])\n",
            "torch.Size([64, 768, 128])\n"
          ],
          "name": "stdout"
        }
      ]
    },
    {
      "cell_type": "code",
      "metadata": {
        "colab": {
          "base_uri": "https://localhost:8080/"
        },
        "id": "-5e36J_vqYqX",
        "outputId": "eb06950f-24af-4b01-dca6-2826a5c29289"
      },
      "source": [
        "# more complex case\n",
        "\n",
        "real_example = torch.randn(64, 128, 768)\n",
        "print(real_example.shape)\n",
        "transposed = torch.transpose(real_example, 1, 2)\n",
        "print(transposed.shape)"
      ],
      "execution_count": 25,
      "outputs": [
        {
          "output_type": "stream",
          "text": [
            "torch.Size([64, 128, 768])\n",
            "torch.Size([64, 768, 128])\n"
          ],
          "name": "stdout"
        }
      ]
    },
    {
      "cell_type": "code",
      "metadata": {
        "colab": {
          "base_uri": "https://localhost:8080/"
        },
        "id": "j8Yj3yrtzERc",
        "outputId": "4f457fea-9e7a-45f5-ae3b-c0d4082cd0c2"
      },
      "source": [
        "x = torch.ones(1, 2)\n",
        "print(x)\n",
        "y = torch.ones(5, 3)\n",
        "print(y)"
      ],
      "execution_count": 26,
      "outputs": [
        {
          "output_type": "stream",
          "text": [
            "tensor([[1., 1.]])\n",
            "tensor([[1., 1., 1.],\n",
            "        [1., 1., 1.],\n",
            "        [1., 1., 1.],\n",
            "        [1., 1., 1.],\n",
            "        [1., 1., 1.]])\n"
          ],
          "name": "stdout"
        }
      ]
    },
    {
      "cell_type": "code",
      "metadata": {
        "colab": {
          "base_uri": "https://localhost:8080/",
          "height": 170
        },
        "id": "cNOVT5flqZ_I",
        "outputId": "d93f2c47-a533-4843-a411-751dcdc78397"
      },
      "source": [
        "print(x+y)"
      ],
      "execution_count": 27,
      "outputs": [
        {
          "output_type": "error",
          "ename": "RuntimeError",
          "evalue": "ignored",
          "traceback": [
            "\u001b[0;31m---------------------------------------------------------------------------\u001b[0m",
            "\u001b[0;31mRuntimeError\u001b[0m                              Traceback (most recent call last)",
            "\u001b[0;32m<ipython-input-27-39cb3db33052>\u001b[0m in \u001b[0;36m<module>\u001b[0;34m()\u001b[0m\n\u001b[0;32m----> 1\u001b[0;31m \u001b[0mprint\u001b[0m\u001b[0;34m(\u001b[0m\u001b[0mx\u001b[0m\u001b[0;34m+\u001b[0m\u001b[0my\u001b[0m\u001b[0;34m)\u001b[0m\u001b[0;34m\u001b[0m\u001b[0;34m\u001b[0m\u001b[0m\n\u001b[0m",
            "\u001b[0;31mRuntimeError\u001b[0m: The size of tensor a (2) must match the size of tensor b (3) at non-singleton dimension 1"
          ]
        }
      ]
    },
    {
      "cell_type": "code",
      "metadata": {
        "colab": {
          "base_uri": "https://localhost:8080/"
        },
        "id": "Mf7cWCL0qbiD",
        "outputId": "6943614c-8f8b-41fa-b17b-cc9c1bd57c1d"
      },
      "source": [
        "\n",
        "y = torch.ones(5, 2)\n",
        "print(y)\n",
        "\n",
        "# 1.\n",
        "print(x+y)\n",
        "# 2. \n",
        "print(torch.add(x, y))\n",
        "# 3.\n",
        "result = torch.empty(5, 2)\n",
        "torch.add(x, y, out=result)\n",
        "print(result)\n",
        "# 4. inplace\n",
        "print(y.add_(x))"
      ],
      "execution_count": 29,
      "outputs": [
        {
          "output_type": "stream",
          "text": [
            "tensor([[1., 1.],\n",
            "        [1., 1.],\n",
            "        [1., 1.],\n",
            "        [1., 1.],\n",
            "        [1., 1.]])\n",
            "tensor([[2., 2.],\n",
            "        [2., 2.],\n",
            "        [2., 2.],\n",
            "        [2., 2.],\n",
            "        [2., 2.]])\n",
            "tensor([[2., 2.],\n",
            "        [2., 2.],\n",
            "        [2., 2.],\n",
            "        [2., 2.],\n",
            "        [2., 2.]])\n",
            "tensor([[2., 2.],\n",
            "        [2., 2.],\n",
            "        [2., 2.],\n",
            "        [2., 2.],\n",
            "        [2., 2.]])\n",
            "tensor([[2., 2.],\n",
            "        [2., 2.],\n",
            "        [2., 2.],\n",
            "        [2., 2.],\n",
            "        [2., 2.]])\n"
          ],
          "name": "stdout"
        }
      ]
    },
    {
      "cell_type": "markdown",
      "metadata": {
        "id": "uNRcX3PGqevV"
      },
      "source": [
        "\n",
        "## Additional Information\n",
        "- torch 연산(transpose, indexing, slicing, mathematical operations, linear algebra 등)은 아래 링크에서 추가로 확인 가능\n",
        "- https://pytorch.org/docs/stable/torch.html\n",
        "## Reference: Moving tensors to the GPU\n",
        "if you are using Google Colaboratory, please set the runtime type to GPUs.\n",
        "\n",
        "화면 상단 런타임 >> 런타임 유형 변경 >> 하드웨어 가속기 GPU 선택"
      ]
    },
    {
      "cell_type": "code",
      "metadata": {
        "colab": {
          "base_uri": "https://localhost:8080/"
        },
        "id": "-uODke5yqndA",
        "outputId": "2833001e-0d90-4d40-e843-3bb67928c3a0"
      },
      "source": [
        "torch.cuda.is_available()"
      ],
      "execution_count": 28,
      "outputs": [
        {
          "output_type": "execute_result",
          "data": {
            "text/plain": [
              "True"
            ]
          },
          "metadata": {
            "tags": []
          },
          "execution_count": 28
        }
      ]
    },
    {
      "cell_type": "code",
      "metadata": {
        "colab": {
          "base_uri": "https://localhost:8080/"
        },
        "id": "WU_5l25h0Atd",
        "outputId": "7369a243-623c-4a5a-a907-e5a1cbea2ba5"
      },
      "source": [
        "import torch # 런타임 유형을 변경하면 colab 세션이 초기화될 수 있음\n",
        "\n",
        "points_gpu = torch.tensor([[4.0, 1.0], [5.0, 3.0], [2.0, 1.0]], device='cuda')\n",
        "\n",
        "print(points_gpu)"
      ],
      "execution_count": 30,
      "outputs": [
        {
          "output_type": "stream",
          "text": [
            "tensor([[4., 1.],\n",
            "        [5., 3.],\n",
            "        [2., 1.]], device='cuda:0')\n"
          ],
          "name": "stdout"
        }
      ]
    },
    {
      "cell_type": "code",
      "metadata": {
        "colab": {
          "base_uri": "https://localhost:8080/"
        },
        "id": "fC7J3BH40Lv8",
        "outputId": "a2bea9e8-0d67-4bf0-8a0f-24770a5b8786"
      },
      "source": [
        "points = torch.randn(2, 3)\n",
        "points_gpu = points.to(device='cuda')\n",
        "\n",
        "print(points_gpu)"
      ],
      "execution_count": 31,
      "outputs": [
        {
          "output_type": "stream",
          "text": [
            "tensor([[0.0498, 0.3454, 0.6121],\n",
            "        [1.6089, 0.3407, 1.2919]], device='cuda:0')\n"
          ],
          "name": "stdout"
        }
      ]
    },
    {
      "cell_type": "code",
      "metadata": {
        "colab": {
          "base_uri": "https://localhost:8080/"
        },
        "id": "gBErfYBd0NqJ",
        "outputId": "8d1c2ec7-6f00-4e17-967b-17d6c433003b"
      },
      "source": [
        "points_gpu_0 = points.to(device='cuda:0')\n",
        "print(points_gpu_0)"
      ],
      "execution_count": 32,
      "outputs": [
        {
          "output_type": "stream",
          "text": [
            "tensor([[0.0498, 0.3454, 0.6121],\n",
            "        [1.6089, 0.3407, 1.2919]], device='cuda:0')\n"
          ],
          "name": "stdout"
        }
      ]
    },
    {
      "cell_type": "code",
      "metadata": {
        "colab": {
          "base_uri": "https://localhost:8080/"
        },
        "id": "OeWA5abr0Qsu",
        "outputId": "64e7f553-6bfb-4012-8aa5-7e5726abde98"
      },
      "source": [
        "# operations performed on CPU and GPU\n",
        "\n",
        "points = 2 * points   # cpu에서 계산 수행\n",
        "print(points)\n",
        "\n",
        "points_op_gpu = 2 * points.to(device='cuda')  # gpu에서 계산 수행\n",
        "print(points_op_gpu)"
      ],
      "execution_count": 33,
      "outputs": [
        {
          "output_type": "stream",
          "text": [
            "tensor([[0.0997, 0.6908, 1.2242],\n",
            "        [3.2177, 0.6815, 2.5839]])\n",
            "tensor([[0.1993, 1.3817, 2.4483],\n",
            "        [6.4355, 1.3630, 5.1677]], device='cuda:0')\n"
          ],
          "name": "stdout"
        }
      ]
    },
    {
      "cell_type": "code",
      "metadata": {
        "colab": {
          "base_uri": "https://localhost:8080/"
        },
        "id": "DrB2oWSj0lcz",
        "outputId": "e2f310a4-22b4-458d-fde4-49ff96d01bc3"
      },
      "source": [
        "\n",
        "# move the tensor back to the CPU\n",
        "\n",
        "points_cpu = points_gpu_0.to(device='cpu')\n",
        "print(points_cpu)\n",
        "print(points_cpu.device)"
      ],
      "execution_count": 34,
      "outputs": [
        {
          "output_type": "stream",
          "text": [
            "tensor([[0.0498, 0.3454, 0.6121],\n",
            "        [1.6089, 0.3407, 1.2919]])\n",
            "cpu\n"
          ],
          "name": "stdout"
        }
      ]
    },
    {
      "cell_type": "code",
      "metadata": {
        "colab": {
          "base_uri": "https://localhost:8080/"
        },
        "id": "TRMriRRf0nRX",
        "outputId": "7b589d62-9137-49fa-9420-1afd9ea68310"
      },
      "source": [
        "# shorter forms\n",
        "points_gpu = points.cuda()\n",
        "print(points_gpu)\n",
        "\n",
        "points_gpu = points.cuda(0)\n",
        "print(points_gpu)\n",
        "\n",
        "points_cpu = points_gpu.cpu()\n",
        "print(points_cpu)"
      ],
      "execution_count": 35,
      "outputs": [
        {
          "output_type": "stream",
          "text": [
            "tensor([[0.0997, 0.6908, 1.2242],\n",
            "        [3.2177, 0.6815, 2.5839]], device='cuda:0')\n",
            "tensor([[0.0997, 0.6908, 1.2242],\n",
            "        [3.2177, 0.6815, 2.5839]], device='cuda:0')\n",
            "tensor([[0.0997, 0.6908, 1.2242],\n",
            "        [3.2177, 0.6815, 2.5839]])\n"
          ],
          "name": "stdout"
        }
      ]
    },
    {
      "cell_type": "code",
      "metadata": {
        "colab": {
          "base_uri": "https://localhost:8080/"
        },
        "id": "i45MgqIk0oz8",
        "outputId": "ca595454-420b-44c6-8bb5-7b96ef2e5081"
      },
      "source": [
        "# tensor to numpy array\n",
        "\n",
        "points = torch.ones(3, 4)\n",
        "points_np = points.numpy()\n",
        "\n",
        "print(points_np)"
      ],
      "execution_count": 36,
      "outputs": [
        {
          "output_type": "stream",
          "text": [
            "[[1. 1. 1. 1.]\n",
            " [1. 1. 1. 1.]\n",
            " [1. 1. 1. 1.]]\n"
          ],
          "name": "stdout"
        }
      ]
    },
    {
      "cell_type": "code",
      "metadata": {
        "colab": {
          "base_uri": "https://localhost:8080/"
        },
        "id": "hIJTUhjE0rUg",
        "outputId": "521d106a-01b4-4321-fe56-58b5ecbd58b8"
      },
      "source": [
        "\n",
        "points = torch.from_numpy(points_np)\n",
        "\n",
        "print(points)"
      ],
      "execution_count": 37,
      "outputs": [
        {
          "output_type": "stream",
          "text": [
            "tensor([[1., 1., 1., 1.],\n",
            "        [1., 1., 1., 1.],\n",
            "        [1., 1., 1., 1.]])\n"
          ],
          "name": "stdout"
        }
      ]
    },
    {
      "cell_type": "markdown",
      "metadata": {
        "id": "fXJoeQaY1t0c"
      },
      "source": [
        "\n",
        "## 파일저장"
      ]
    },
    {
      "cell_type": "code",
      "metadata": {
        "colab": {
          "base_uri": "https://localhost:8080/"
        },
        "id": "swQI34UD0trG",
        "outputId": "c661184e-2e9f-401b-cb28-6913a2ec156c"
      },
      "source": [
        "print(points)\n",
        "\n",
        "torch.save(points, './points_temp.t')"
      ],
      "execution_count": 38,
      "outputs": [
        {
          "output_type": "stream",
          "text": [
            "tensor([[1., 1., 1., 1.],\n",
            "        [1., 1., 1., 1.],\n",
            "        [1., 1., 1., 1.]])\n"
          ],
          "name": "stdout"
        }
      ]
    },
    {
      "cell_type": "code",
      "metadata": {
        "colab": {
          "base_uri": "https://localhost:8080/"
        },
        "id": "LL08QbE61skS",
        "outputId": "bb14c314-45f9-47f7-c990-2b24d056c639"
      },
      "source": [
        "load_points = torch.load('./points_temp.t')\n",
        "print(load_points)"
      ],
      "execution_count": 39,
      "outputs": [
        {
          "output_type": "stream",
          "text": [
            "tensor([[1., 1., 1., 1.],\n",
            "        [1., 1., 1., 1.],\n",
            "        [1., 1., 1., 1.]])\n"
          ],
          "name": "stdout"
        }
      ]
    },
    {
      "cell_type": "code",
      "metadata": {
        "id": "ct3WYyVj1sw2"
      },
      "source": [
        ""
      ],
      "execution_count": null,
      "outputs": []
    }
  ]
}