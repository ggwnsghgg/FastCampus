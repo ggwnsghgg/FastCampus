{
  "nbformat": 4,
  "nbformat_minor": 0,
  "metadata": {
    "colab": {
      "name": "기본코드훈련.ipynb",
      "provenance": [],
      "collapsed_sections": [],
      "authorship_tag": "ABX9TyO35LgIWlCdaf8nas39fPCc",
      "include_colab_link": true
    },
    "kernelspec": {
      "name": "python3",
      "display_name": "Python 3"
    },
    "language_info": {
      "name": "python"
    }
  },
  "cells": [
    {
      "cell_type": "markdown",
      "metadata": {
        "id": "view-in-github",
        "colab_type": "text"
      },
      "source": [
        "<a href=\"https://colab.research.google.com/github/ggwnsghgg/FastCampus/blob/main/%EA%B8%B0%EB%B3%B8%EC%BD%94%EB%93%9C%ED%9B%88%EB%A0%A8.ipynb\" target=\"_parent\"><img src=\"https://colab.research.google.com/assets/colab-badge.svg\" alt=\"Open In Colab\"/></a>"
      ]
    },
    {
      "cell_type": "markdown",
      "metadata": {
        "id": "TDGd3v-ptFTh"
      },
      "source": [
        "\n",
        "## 1. numpy, array, matrix 등"
      ]
    },
    {
      "cell_type": "code",
      "metadata": {
        "id": "MVipZ_bAsEdB"
      },
      "source": [
        "import warnings\n",
        "import numpy as np\n",
        "warnings.filterwarnings(\"ignore\")"
      ],
      "execution_count": 1,
      "outputs": []
    },
    {
      "cell_type": "markdown",
      "metadata": {
        "id": "eHxfuhDbtil7"
      },
      "source": [
        "### 리스트, 행렬 선언"
      ]
    },
    {
      "cell_type": "code",
      "metadata": {
        "colab": {
          "base_uri": "https://localhost:8080/"
        },
        "id": "ypTLHtkfsX0m",
        "outputId": "f6b7f959-cb35-4a2a-c62b-085f6aee69e7"
      },
      "source": [
        "# list_name(변수명 설정) = [\"item-1\", \"item-2\", ... , \"item-n\"]\n",
        "\n",
        "a = [1, 2, 3]\n",
        "b = [\"a\", \"b\", \"c\"]\n",
        "c = [[\"a\"], [\"a\", \"b\"], [\"a\", \"c\"], [\"a\", \"b\", \"c\"]]\n",
        "\n",
        "print(a)\n",
        "print(b)\n",
        "print(c)"
      ],
      "execution_count": 2,
      "outputs": [
        {
          "output_type": "stream",
          "text": [
            "[1, 2, 3]\n",
            "['a', 'b', 'c']\n",
            "[['a'], ['a', 'b'], ['a', 'c'], ['a', 'b', 'c']]\n"
          ],
          "name": "stdout"
        }
      ]
    },
    {
      "cell_type": "code",
      "metadata": {
        "colab": {
          "base_uri": "https://localhost:8080/"
        },
        "id": "gTvpnBMKsgYt",
        "outputId": "d4f276f6-7368-430c-e5ff-cdad19cae404"
      },
      "source": [
        "# append()로 리스트에 item 추가하기\n",
        "c.append('new_item')\n",
        "c.append(['new_item_list'])\n",
        "\n",
        "print(c)"
      ],
      "execution_count": 3,
      "outputs": [
        {
          "output_type": "stream",
          "text": [
            "[['a'], ['a', 'b'], ['a', 'c'], ['a', 'b', 'c'], 'new_item', ['new_item_list']]\n"
          ],
          "name": "stdout"
        }
      ]
    },
    {
      "cell_type": "code",
      "metadata": {
        "colab": {
          "base_uri": "https://localhost:8080/"
        },
        "id": "kNARafxrtoBX",
        "outputId": "2f44f57f-e572-41a1-d27f-d929ab95b9cb"
      },
      "source": [
        "a = np.array([1, 2, 3])\n",
        "b = np.array([\"a\", \"b\", \"c\"])\n",
        "c = np.array([[\"a\"], [\"a\", \"b\"], [\"a\", \"c\"], [\"a\", \"b\", \"c\"]])\n",
        "\n",
        "print(a)\n",
        "print(b)\n",
        "print(c)"
      ],
      "execution_count": 4,
      "outputs": [
        {
          "output_type": "stream",
          "text": [
            "[1 2 3]\n",
            "['a' 'b' 'c']\n",
            "[list(['a']) list(['a', 'b']) list(['a', 'c']) list(['a', 'b', 'c'])]\n"
          ],
          "name": "stdout"
        }
      ]
    },
    {
      "cell_type": "code",
      "metadata": {
        "colab": {
          "base_uri": "https://localhost:8080/"
        },
        "id": "qZjLEltAtuTk",
        "outputId": "72a01a6b-45c0-4d1f-9634-79002be25428"
      },
      "source": [
        "# 배열(또는 행렬)을 1로 채우기\n",
        "print(np.ones((1, 5)))\n",
        "print(np.ones((3, 2)))"
      ],
      "execution_count": 5,
      "outputs": [
        {
          "output_type": "stream",
          "text": [
            "[[1. 1. 1. 1. 1.]]\n",
            "[[1. 1.]\n",
            " [1. 1.]\n",
            " [1. 1.]]\n"
          ],
          "name": "stdout"
        }
      ]
    },
    {
      "cell_type": "code",
      "metadata": {
        "colab": {
          "base_uri": "https://localhost:8080/"
        },
        "id": "RGTMcG0Yt5l5",
        "outputId": "045dd8e6-2709-4b26-a4f6-cb95e8eb7a8a"
      },
      "source": [
        "# 배열(또는 행렬)을 0으로 채우기\n",
        "print(np.zeros((1, 5)))\n",
        "print(np.zeros((3, 2)))"
      ],
      "execution_count": 6,
      "outputs": [
        {
          "output_type": "stream",
          "text": [
            "[[0. 0. 0. 0. 0.]]\n",
            "[[0. 0.]\n",
            " [0. 0.]\n",
            " [0. 0.]]\n"
          ],
          "name": "stdout"
        }
      ]
    },
    {
      "cell_type": "code",
      "metadata": {
        "colab": {
          "base_uri": "https://localhost:8080/"
        },
        "id": "USQc0snrt7Be",
        "outputId": "c34d6154-c78f-4762-b814-52f7c66f2c78"
      },
      "source": [
        "\n",
        "# 주어진 범위 안에서 순차적으로 증가하는 리스트 만들기\n",
        "# np.arange([start,] stop, [step, ] dtype=None)\n",
        "\n",
        "print(np.arange(10))\n",
        "print(np.arange(3,7, dtype=np.float))\n",
        "print(np.arange(3,10,2))"
      ],
      "execution_count": 7,
      "outputs": [
        {
          "output_type": "stream",
          "text": [
            "[0 1 2 3 4 5 6 7 8 9]\n",
            "[3. 4. 5. 6.]\n",
            "[3 5 7 9]\n"
          ],
          "name": "stdout"
        }
      ]
    },
    {
      "cell_type": "code",
      "metadata": {
        "colab": {
          "base_uri": "https://localhost:8080/"
        },
        "id": "LyTCkU92t8TS",
        "outputId": "9faf276e-26c4-4f8d-a99f-2b6749b88504"
      },
      "source": [
        "\n",
        "# 행렬 선언하기\n",
        "mat1 = np.array([[1,2,3],[4,5,6]])\n",
        "\n",
        "# random으로 matrix 만들기\n",
        "mat2 = np.random.randint(low=1, high=10, size=(3,2))\n",
        "mat3 = np.random.rand(3,2)\n",
        "\n",
        "print(mat1)\n",
        "print(mat2)\n",
        "print(mat3)"
      ],
      "execution_count": 8,
      "outputs": [
        {
          "output_type": "stream",
          "text": [
            "[[1 2 3]\n",
            " [4 5 6]]\n",
            "[[2 6]\n",
            " [3 2]\n",
            " [6 1]]\n",
            "[[0.73563328 0.83364813]\n",
            " [0.73382594 0.92454581]\n",
            " [0.71599532 0.08346526]]\n"
          ],
          "name": "stdout"
        }
      ]
    },
    {
      "cell_type": "markdown",
      "metadata": {
        "id": "DlGkDL6FuS04"
      },
      "source": [
        "**리스트 인덱싱(Indexing) & 슬라이싱(Slicing**"
      ]
    },
    {
      "cell_type": "code",
      "metadata": {
        "colab": {
          "base_uri": "https://localhost:8080/"
        },
        "id": "RRhX7iQFt9ky",
        "outputId": "d3c40fce-f838-42c4-fb20-6cebf6624142"
      },
      "source": [
        "\n",
        "# Indexing\n",
        "a = [1,3,5,7,9,11]\n",
        "print(a[2], a[5], a[-1])"
      ],
      "execution_count": 9,
      "outputs": [
        {
          "output_type": "stream",
          "text": [
            "5 11 11\n"
          ],
          "name": "stdout"
        }
      ]
    },
    {
      "cell_type": "code",
      "metadata": {
        "colab": {
          "base_uri": "https://localhost:8080/"
        },
        "id": "5TRQ8mguuY9r",
        "outputId": "754cc25c-13a1-4044-c64a-d5d736c0ae3d"
      },
      "source": [
        "b = [2,4,6,8,10]\n",
        "print(b[2:])\n",
        "print(b[:2])\n",
        "print(b[:])"
      ],
      "execution_count": 10,
      "outputs": [
        {
          "output_type": "stream",
          "text": [
            "[6, 8, 10]\n",
            "[2, 4]\n",
            "[2, 4, 6, 8, 10]\n"
          ],
          "name": "stdout"
        }
      ]
    },
    {
      "cell_type": "markdown",
      "metadata": {
        "id": "KRY8H7wSucpZ"
      },
      "source": [
        "**numpy의 reshape (PyTorch의 view와 비교)**"
      ]
    },
    {
      "cell_type": "code",
      "metadata": {
        "colab": {
          "base_uri": "https://localhost:8080/"
        },
        "id": "tvDCzOueuZL9",
        "outputId": "7a059892-0317-4497-e4d5-5def5b47277a"
      },
      "source": [
        "\n",
        "# (row, column)\n",
        "mat1 = np.random.rand(6,3)\n",
        "print(mat1)"
      ],
      "execution_count": 11,
      "outputs": [
        {
          "output_type": "stream",
          "text": [
            "[[0.38124279 0.44011135 0.69044744]\n",
            " [0.40971698 0.89258147 0.74748966]\n",
            " [0.65841525 0.38909539 0.32866993]\n",
            " [0.29324172 0.39736411 0.67825066]\n",
            " [0.82639172 0.36342221 0.5467123 ]\n",
            " [0.03693886 0.55667174 0.74668394]]\n"
          ],
          "name": "stdout"
        }
      ]
    },
    {
      "cell_type": "code",
      "metadata": {
        "colab": {
          "base_uri": "https://localhost:8080/"
        },
        "id": "JHhu_g7fufa9",
        "outputId": "ba9c3973-36ba-47c5-a801-cc9c3742abaa"
      },
      "source": [
        "# -1: all\n",
        "print(mat1.reshape(1, -1).shape)\n",
        "print(mat1.reshape(1, -1))\n",
        "print(\"=====\")\n",
        "print(mat1.reshape(-1, 1).shape)\n",
        "print(mat1.reshape(-1, 1))"
      ],
      "execution_count": 12,
      "outputs": [
        {
          "output_type": "stream",
          "text": [
            "(1, 18)\n",
            "[[0.38124279 0.44011135 0.69044744 0.40971698 0.89258147 0.74748966\n",
            "  0.65841525 0.38909539 0.32866993 0.29324172 0.39736411 0.67825066\n",
            "  0.82639172 0.36342221 0.5467123  0.03693886 0.55667174 0.74668394]]\n",
            "=====\n",
            "(18, 1)\n",
            "[[0.38124279]\n",
            " [0.44011135]\n",
            " [0.69044744]\n",
            " [0.40971698]\n",
            " [0.89258147]\n",
            " [0.74748966]\n",
            " [0.65841525]\n",
            " [0.38909539]\n",
            " [0.32866993]\n",
            " [0.29324172]\n",
            " [0.39736411]\n",
            " [0.67825066]\n",
            " [0.82639172]\n",
            " [0.36342221]\n",
            " [0.5467123 ]\n",
            " [0.03693886]\n",
            " [0.55667174]\n",
            " [0.74668394]]\n"
          ],
          "name": "stdout"
        }
      ]
    },
    {
      "cell_type": "code",
      "metadata": {
        "colab": {
          "base_uri": "https://localhost:8080/"
        },
        "id": "Ap66X2ChvLYs",
        "outputId": "de01e7b1-4ab9-43db-e292-5179ba8b3909"
      },
      "source": [
        "print(mat1.reshape(2, 9).shape)\n",
        "print(mat1.reshape(9, 2))"
      ],
      "execution_count": 13,
      "outputs": [
        {
          "output_type": "stream",
          "text": [
            "(2, 9)\n",
            "[[0.38124279 0.44011135]\n",
            " [0.69044744 0.40971698]\n",
            " [0.89258147 0.74748966]\n",
            " [0.65841525 0.38909539]\n",
            " [0.32866993 0.29324172]\n",
            " [0.39736411 0.67825066]\n",
            " [0.82639172 0.36342221]\n",
            " [0.5467123  0.03693886]\n",
            " [0.55667174 0.74668394]]\n"
          ],
          "name": "stdout"
        }
      ]
    },
    {
      "cell_type": "code",
      "metadata": {
        "colab": {
          "base_uri": "https://localhost:8080/",
          "height": 170
        },
        "id": "Lqle_JhyvflG",
        "outputId": "8d8dbee2-1b89-40be-939d-77e857dc8a9c"
      },
      "source": [
        "mat1.reshape(2,5)"
      ],
      "execution_count": 14,
      "outputs": [
        {
          "output_type": "error",
          "ename": "ValueError",
          "evalue": "ignored",
          "traceback": [
            "\u001b[0;31m---------------------------------------------------------------------------\u001b[0m",
            "\u001b[0;31mValueError\u001b[0m                                Traceback (most recent call last)",
            "\u001b[0;32m<ipython-input-14-634a26252eb7>\u001b[0m in \u001b[0;36m<module>\u001b[0;34m()\u001b[0m\n\u001b[0;32m----> 1\u001b[0;31m \u001b[0mmat1\u001b[0m\u001b[0;34m.\u001b[0m\u001b[0mreshape\u001b[0m\u001b[0;34m(\u001b[0m\u001b[0;36m2\u001b[0m\u001b[0;34m,\u001b[0m\u001b[0;36m5\u001b[0m\u001b[0;34m)\u001b[0m\u001b[0;34m\u001b[0m\u001b[0;34m\u001b[0m\u001b[0m\n\u001b[0m",
            "\u001b[0;31mValueError\u001b[0m: cannot reshape array of size 18 into shape (2,5)"
          ]
        }
      ]
    },
    {
      "cell_type": "code",
      "metadata": {
        "colab": {
          "base_uri": "https://localhost:8080/"
        },
        "id": "5aQYEiC9vk80",
        "outputId": "778c5351-8655-4474-88fd-9c24365903d2"
      },
      "source": [
        "# tensor 형태로 나타내기 tensor 형태로 나타내기\n",
        "print(mat1.reshape(3,2,3).shape)\n",
        "print(mat1.reshape(3,2,3))\n",
        "print(mat1.reshape(3,2,3).shape)\n",
        "print(mat1.reshape(3,2,3))"
      ],
      "execution_count": 15,
      "outputs": [
        {
          "output_type": "stream",
          "text": [
            "(3, 2, 3)\n",
            "[[[0.38124279 0.44011135 0.69044744]\n",
            "  [0.40971698 0.89258147 0.74748966]]\n",
            "\n",
            " [[0.65841525 0.38909539 0.32866993]\n",
            "  [0.29324172 0.39736411 0.67825066]]\n",
            "\n",
            " [[0.82639172 0.36342221 0.5467123 ]\n",
            "  [0.03693886 0.55667174 0.74668394]]]\n",
            "(3, 2, 3)\n",
            "[[[0.38124279 0.44011135 0.69044744]\n",
            "  [0.40971698 0.89258147 0.74748966]]\n",
            "\n",
            " [[0.65841525 0.38909539 0.32866993]\n",
            "  [0.29324172 0.39736411 0.67825066]]\n",
            "\n",
            " [[0.82639172 0.36342221 0.5467123 ]\n",
            "  [0.03693886 0.55667174 0.74668394]]]\n"
          ],
          "name": "stdout"
        }
      ]
    },
    {
      "cell_type": "code",
      "metadata": {
        "colab": {
          "base_uri": "https://localhost:8080/"
        },
        "id": "-jkdAdDhw3BB",
        "outputId": "226fc3f6-75f5-426c-c401-6535d763f732"
      },
      "source": [
        "\n",
        "mat2 = np.arange(24).reshape(-1, 4)\n",
        "print(mat2)"
      ],
      "execution_count": 16,
      "outputs": [
        {
          "output_type": "stream",
          "text": [
            "[[ 0  1  2  3]\n",
            " [ 4  5  6  7]\n",
            " [ 8  9 10 11]\n",
            " [12 13 14 15]\n",
            " [16 17 18 19]\n",
            " [20 21 22 23]]\n"
          ],
          "name": "stdout"
        }
      ]
    },
    {
      "cell_type": "code",
      "metadata": {
        "colab": {
          "base_uri": "https://localhost:8080/"
        },
        "id": "OfHc2zJuw9Z0",
        "outputId": "32d41687-357e-4b0d-a841-553a800a217d"
      },
      "source": [
        "mat2[:1,:3]"
      ],
      "execution_count": 17,
      "outputs": [
        {
          "output_type": "execute_result",
          "data": {
            "text/plain": [
              "array([[0, 1, 2]])"
            ]
          },
          "metadata": {
            "tags": []
          },
          "execution_count": 17
        }
      ]
    },
    {
      "cell_type": "code",
      "metadata": {
        "colab": {
          "base_uri": "https://localhost:8080/"
        },
        "id": "VudOF55sw-jg",
        "outputId": "f83a7da0-8074-4afc-9d8c-1a6d3b9ea600"
      },
      "source": [
        "mat2[3, 0:2]"
      ],
      "execution_count": 18,
      "outputs": [
        {
          "output_type": "execute_result",
          "data": {
            "text/plain": [
              "array([12, 13])"
            ]
          },
          "metadata": {
            "tags": []
          },
          "execution_count": 18
        }
      ]
    },
    {
      "cell_type": "code",
      "metadata": {
        "colab": {
          "base_uri": "https://localhost:8080/"
        },
        "id": "mi71oLGjw_cY",
        "outputId": "fb147662-a3c7-4687-c6ac-df668d7b26ff"
      },
      "source": [
        "\n",
        "x = np.array([[1,3,5],[7,9,11],[13,15,17]])\n",
        "y = np.array([[2,4,6],[8,10,12],[14,16,18]])\n",
        "\n",
        "print(x)\n",
        "print(y)"
      ],
      "execution_count": 19,
      "outputs": [
        {
          "output_type": "stream",
          "text": [
            "[[ 1  3  5]\n",
            " [ 7  9 11]\n",
            " [13 15 17]]\n",
            "[[ 2  4  6]\n",
            " [ 8 10 12]\n",
            " [14 16 18]]\n"
          ],
          "name": "stdout"
        }
      ]
    },
    {
      "cell_type": "code",
      "metadata": {
        "colab": {
          "base_uri": "https://localhost:8080/"
        },
        "id": "jfHisOJLxkOo",
        "outputId": "d724b17a-d00e-47c8-cdd9-710c805a3e24"
      },
      "source": [
        "\n",
        "# add\n",
        "x + y"
      ],
      "execution_count": 20,
      "outputs": [
        {
          "output_type": "execute_result",
          "data": {
            "text/plain": [
              "array([[ 3,  7, 11],\n",
              "       [15, 19, 23],\n",
              "       [27, 31, 35]])"
            ]
          },
          "metadata": {
            "tags": []
          },
          "execution_count": 20
        }
      ]
    },
    {
      "cell_type": "code",
      "metadata": {
        "colab": {
          "base_uri": "https://localhost:8080/"
        },
        "id": "gPCOX6BtxlSV",
        "outputId": "b27a0d0c-5a4a-454c-cef2-13244615b68b"
      },
      "source": [
        "x-y"
      ],
      "execution_count": 21,
      "outputs": [
        {
          "output_type": "execute_result",
          "data": {
            "text/plain": [
              "array([[-1, -1, -1],\n",
              "       [-1, -1, -1],\n",
              "       [-1, -1, -1]])"
            ]
          },
          "metadata": {
            "tags": []
          },
          "execution_count": 21
        }
      ]
    },
    {
      "cell_type": "code",
      "metadata": {
        "colab": {
          "base_uri": "https://localhost:8080/"
        },
        "id": "jpRM25kwxsxc",
        "outputId": "5f14a462-6860-4b75-fd28-1e5bb4aed5d4"
      },
      "source": [
        "x*y"
      ],
      "execution_count": 22,
      "outputs": [
        {
          "output_type": "execute_result",
          "data": {
            "text/plain": [
              "array([[  2,  12,  30],\n",
              "       [ 56,  90, 132],\n",
              "       [182, 240, 306]])"
            ]
          },
          "metadata": {
            "tags": []
          },
          "execution_count": 22
        }
      ]
    },
    {
      "cell_type": "code",
      "metadata": {
        "colab": {
          "base_uri": "https://localhost:8080/"
        },
        "id": "3Vo7DW9BxtQO",
        "outputId": "720fd0ee-9387-4afd-b417-e6ca45ebf58a"
      },
      "source": [
        "x/y"
      ],
      "execution_count": 23,
      "outputs": [
        {
          "output_type": "execute_result",
          "data": {
            "text/plain": [
              "array([[0.5       , 0.75      , 0.83333333],\n",
              "       [0.875     , 0.9       , 0.91666667],\n",
              "       [0.92857143, 0.9375    , 0.94444444]])"
            ]
          },
          "metadata": {
            "tags": []
          },
          "execution_count": 23
        }
      ]
    },
    {
      "cell_type": "code",
      "metadata": {
        "colab": {
          "base_uri": "https://localhost:8080/"
        },
        "id": "REsJ4rifxtn2",
        "outputId": "468370fa-d231-40b5-9d31-bfe38cb2ee52"
      },
      "source": [
        "print(x ** 2)\n",
        "print(np.power(x, 2))"
      ],
      "execution_count": 24,
      "outputs": [
        {
          "output_type": "stream",
          "text": [
            "[[  1   9  25]\n",
            " [ 49  81 121]\n",
            " [169 225 289]]\n",
            "[[  1   9  25]\n",
            " [ 49  81 121]\n",
            " [169 225 289]]\n"
          ],
          "name": "stdout"
        }
      ]
    },
    {
      "cell_type": "code",
      "metadata": {
        "colab": {
          "base_uri": "https://localhost:8080/"
        },
        "id": "OBTcBhylxvwU",
        "outputId": "d548523a-a272-4d62-9132-091303708aeb"
      },
      "source": [
        "np.dot(x, y)"
      ],
      "execution_count": 25,
      "outputs": [
        {
          "output_type": "execute_result",
          "data": {
            "text/plain": [
              "array([[ 96, 114, 132],\n",
              "       [240, 294, 348],\n",
              "       [384, 474, 564]])"
            ]
          },
          "metadata": {
            "tags": []
          },
          "execution_count": 25
        }
      ]
    },
    {
      "cell_type": "code",
      "metadata": {
        "colab": {
          "base_uri": "https://localhost:8080/"
        },
        "id": "2hshu94CxzyZ",
        "outputId": "4c5661b3-1fda-490e-c5a4-76eda3a2b3e6"
      },
      "source": [
        "np.sqrt(x)"
      ],
      "execution_count": 26,
      "outputs": [
        {
          "output_type": "execute_result",
          "data": {
            "text/plain": [
              "array([[1.        , 1.73205081, 2.23606798],\n",
              "       [2.64575131, 3.        , 3.31662479],\n",
              "       [3.60555128, 3.87298335, 4.12310563]])"
            ]
          },
          "metadata": {
            "tags": []
          },
          "execution_count": 26
        }
      ]
    },
    {
      "cell_type": "code",
      "metadata": {
        "colab": {
          "base_uri": "https://localhost:8080/"
        },
        "id": "MPBJvr7HyFwj",
        "outputId": "857131a5-f818-439b-8aa1-c867c0023d60"
      },
      "source": [
        "\n",
        "# More on matrix operation\n",
        "z1 = np.array([[2,2,2]])\n",
        "z2 = np.array([[2,2]])\n",
        "\n",
        "x * z1"
      ],
      "execution_count": 27,
      "outputs": [
        {
          "output_type": "execute_result",
          "data": {
            "text/plain": [
              "array([[ 2,  6, 10],\n",
              "       [14, 18, 22],\n",
              "       [26, 30, 34]])"
            ]
          },
          "metadata": {
            "tags": []
          },
          "execution_count": 27
        }
      ]
    },
    {
      "cell_type": "code",
      "metadata": {
        "colab": {
          "base_uri": "https://localhost:8080/",
          "height": 241
        },
        "id": "XyrjDzs9x0vj",
        "outputId": "57da463e-fb8b-4b77-db63-0d11eb72bce0"
      },
      "source": [
        "print(z2.shape)\n",
        "print(x.shape)\n",
        "print(x * z2)"
      ],
      "execution_count": 28,
      "outputs": [
        {
          "output_type": "stream",
          "text": [
            "(1, 2)\n",
            "(3, 3)\n"
          ],
          "name": "stdout"
        },
        {
          "output_type": "error",
          "ename": "ValueError",
          "evalue": "ignored",
          "traceback": [
            "\u001b[0;31m---------------------------------------------------------------------------\u001b[0m",
            "\u001b[0;31mValueError\u001b[0m                                Traceback (most recent call last)",
            "\u001b[0;32m<ipython-input-28-15d0b692d74e>\u001b[0m in \u001b[0;36m<module>\u001b[0;34m()\u001b[0m\n\u001b[1;32m      1\u001b[0m \u001b[0mprint\u001b[0m\u001b[0;34m(\u001b[0m\u001b[0mz2\u001b[0m\u001b[0;34m.\u001b[0m\u001b[0mshape\u001b[0m\u001b[0;34m)\u001b[0m\u001b[0;34m\u001b[0m\u001b[0;34m\u001b[0m\u001b[0m\n\u001b[1;32m      2\u001b[0m \u001b[0mprint\u001b[0m\u001b[0;34m(\u001b[0m\u001b[0mx\u001b[0m\u001b[0;34m.\u001b[0m\u001b[0mshape\u001b[0m\u001b[0;34m)\u001b[0m\u001b[0;34m\u001b[0m\u001b[0;34m\u001b[0m\u001b[0m\n\u001b[0;32m----> 3\u001b[0;31m \u001b[0mprint\u001b[0m\u001b[0;34m(\u001b[0m\u001b[0mx\u001b[0m \u001b[0;34m*\u001b[0m \u001b[0mz2\u001b[0m\u001b[0;34m)\u001b[0m\u001b[0;34m\u001b[0m\u001b[0;34m\u001b[0m\u001b[0m\n\u001b[0m",
            "\u001b[0;31mValueError\u001b[0m: operands could not be broadcast together with shapes (3,3) (1,2) "
          ]
        }
      ]
    },
    {
      "cell_type": "code",
      "metadata": {
        "colab": {
          "base_uri": "https://localhost:8080/"
        },
        "id": "KuCu94zXYZej",
        "outputId": "112520a6-ed71-42cb-d64d-f6a1707a6017"
      },
      "source": [
        "\n",
        "# 합\n",
        "print(x)\n",
        "print(x.sum(axis = 0))\n",
        "print(x.sum(axis = 1))"
      ],
      "execution_count": 29,
      "outputs": [
        {
          "output_type": "stream",
          "text": [
            "[[ 1  3  5]\n",
            " [ 7  9 11]\n",
            " [13 15 17]]\n",
            "[21 27 33]\n",
            "[ 9 27 45]\n"
          ],
          "name": "stdout"
        }
      ]
    },
    {
      "cell_type": "code",
      "metadata": {
        "colab": {
          "base_uri": "https://localhost:8080/"
        },
        "id": "CYn46-sIYX8r",
        "outputId": "603e122d-d220-43b8-a5d9-0db11a770620"
      },
      "source": [
        "# 평균\n",
        "print(x)\n",
        "print(x.mean(axis = 0))\n",
        "print(x.mean(axis = 1))"
      ],
      "execution_count": 30,
      "outputs": [
        {
          "output_type": "stream",
          "text": [
            "[[ 1  3  5]\n",
            " [ 7  9 11]\n",
            " [13 15 17]]\n",
            "[ 7.  9. 11.]\n",
            "[ 3.  9. 15.]\n"
          ],
          "name": "stdout"
        }
      ]
    },
    {
      "cell_type": "code",
      "metadata": {
        "colab": {
          "base_uri": "https://localhost:8080/"
        },
        "id": "KE88a1R0f6PR",
        "outputId": "721c2ba1-1c29-437c-ea03-54fe2b8bbb38"
      },
      "source": [
        "# 표준표차\n",
        "print(x)\n",
        "print(x.mean(axis=0))\n",
        "print(x.mean(axis=1))"
      ],
      "execution_count": 32,
      "outputs": [
        {
          "output_type": "stream",
          "text": [
            "[[ 1  3  5]\n",
            " [ 7  9 11]\n",
            " [13 15 17]]\n",
            "[ 7.  9. 11.]\n",
            "[ 3.  9. 15.]\n"
          ],
          "name": "stdout"
        }
      ]
    },
    {
      "cell_type": "code",
      "metadata": {
        "colab": {
          "base_uri": "https://localhost:8080/"
        },
        "id": "qtydcTSegkUG",
        "outputId": "36792278-e42e-45e1-89ff-8aca0eae2b11"
      },
      "source": [
        "# 표준표차\n",
        "print(x)\n",
        "print(x.std(axis=0))\n",
        "print(x.std(axis=1))"
      ],
      "execution_count": 33,
      "outputs": [
        {
          "output_type": "stream",
          "text": [
            "[[ 1  3  5]\n",
            " [ 7  9 11]\n",
            " [13 15 17]]\n",
            "[4.89897949 4.89897949 4.89897949]\n",
            "[1.63299316 1.63299316 1.63299316]\n"
          ],
          "name": "stdout"
        }
      ]
    },
    {
      "cell_type": "code",
      "metadata": {
        "colab": {
          "base_uri": "https://localhost:8080/"
        },
        "id": "kepuyPCSgqNc",
        "outputId": "d2f8f7ad-5452-4254-a522-25c374a1c8ee"
      },
      "source": [
        "# 표준표차\n",
        "print(x.T)\n",
        "print(z1)\n",
        "print(np.dot(x, z1.T))\n"
      ],
      "execution_count": 35,
      "outputs": [
        {
          "output_type": "stream",
          "text": [
            "[[ 1  7 13]\n",
            " [ 3  9 15]\n",
            " [ 5 11 17]]\n",
            "[[2 2 2]]\n",
            "[[18]\n",
            " [54]\n",
            " [90]]\n"
          ],
          "name": "stdout"
        }
      ]
    },
    {
      "cell_type": "code",
      "metadata": {
        "colab": {
          "base_uri": "https://localhost:8080/"
        },
        "id": "w6_Nx2s8g_CL",
        "outputId": "031dd049-02f7-44fc-882a-c266af4078cc"
      },
      "source": [
        "xx = np.random.rand(15)\n",
        "print(xx)"
      ],
      "execution_count": 36,
      "outputs": [
        {
          "output_type": "stream",
          "text": [
            "[9.17444728e-01 6.33898870e-01 1.36767445e-01 2.17104251e-01\n",
            " 3.71224482e-01 8.88192702e-01 3.57728873e-01 1.26071293e-02\n",
            " 4.85974574e-01 1.35375623e-01 7.79762665e-01 9.38418114e-02\n",
            " 3.56762803e-01 4.96141659e-01 2.87338269e-04]\n"
          ],
          "name": "stdout"
        }
      ]
    },
    {
      "cell_type": "code",
      "metadata": {
        "colab": {
          "base_uri": "https://localhost:8080/"
        },
        "id": "vK3ScoyHhZkE",
        "outputId": "007e62ea-efd6-4e5f-d647-a033cca4e715"
      },
      "source": [
        "print(xx)\n",
        "print(xx.argsort())\n",
        "xx.sort\n",
        "print(xx)"
      ],
      "execution_count": 37,
      "outputs": [
        {
          "output_type": "stream",
          "text": [
            "[9.17444728e-01 6.33898870e-01 1.36767445e-01 2.17104251e-01\n",
            " 3.71224482e-01 8.88192702e-01 3.57728873e-01 1.26071293e-02\n",
            " 4.85974574e-01 1.35375623e-01 7.79762665e-01 9.38418114e-02\n",
            " 3.56762803e-01 4.96141659e-01 2.87338269e-04]\n",
            "[14  7 11  9  2  3 12  6  4  8 13  1 10  5  0]\n",
            "[9.17444728e-01 6.33898870e-01 1.36767445e-01 2.17104251e-01\n",
            " 3.71224482e-01 8.88192702e-01 3.57728873e-01 1.26071293e-02\n",
            " 4.85974574e-01 1.35375623e-01 7.79762665e-01 9.38418114e-02\n",
            " 3.56762803e-01 4.96141659e-01 2.87338269e-04]\n"
          ],
          "name": "stdout"
        }
      ]
    },
    {
      "cell_type": "code",
      "metadata": {
        "id": "sCe0SdjlhdXy"
      },
      "source": [
        "import pandas as pd"
      ],
      "execution_count": 38,
      "outputs": []
    },
    {
      "cell_type": "code",
      "metadata": {
        "colab": {
          "base_uri": "https://localhost:8080/"
        },
        "id": "-17bvucthkYY",
        "outputId": "3f6818aa-7610-4474-b4e9-d1c0c478df2d"
      },
      "source": [
        "pd_series = pd.Series(index = ['a','b','c','d','e'], data=[1,2,3,4,5])\n",
        "pd_series"
      ],
      "execution_count": 41,
      "outputs": [
        {
          "output_type": "execute_result",
          "data": {
            "text/plain": [
              "a    1\n",
              "b    2\n",
              "c    3\n",
              "d    4\n",
              "e    5\n",
              "dtype: int64"
            ]
          },
          "metadata": {
            "tags": []
          },
          "execution_count": 41
        }
      ]
    },
    {
      "cell_type": "code",
      "metadata": {
        "colab": {
          "base_uri": "https://localhost:8080/"
        },
        "id": "e74jt10Whz3c",
        "outputId": "139cf744-bf9a-4319-caac-eb55cdb209f1"
      },
      "source": [
        "print('차원:', pd_series.ndim)\n",
        "print('형태: ', pd_series.shape)\n",
        "print('총 원소의 수:', pd_series.size)\n",
        "\n",
        "print('값:', pd_series.values)\n",
        "print('인덱스:', pd_series.index)"
      ],
      "execution_count": 42,
      "outputs": [
        {
          "output_type": "stream",
          "text": [
            "차원: 1\n",
            "형태:  (5,)\n",
            "총 원소의 수: 5\n",
            "값: [1 2 3 4 5]\n",
            "인덱스: Index(['a', 'b', 'c', 'd', 'e'], dtype='object')\n"
          ],
          "name": "stdout"
        }
      ]
    },
    {
      "cell_type": "code",
      "metadata": {
        "colab": {
          "base_uri": "https://localhost:8080/"
        },
        "id": "xdfrH_D1iAb9",
        "outputId": "2f73fd08-5e68-4e4d-e598-9519a4e835d4"
      },
      "source": [
        "# loc(index를 활용하여 access), iloc(integer location)\n",
        "\n",
        "print(pd_series.loc['a'])\n",
        "print(pd_series.iloc[0])\n",
        "\n",
        "print(pd_series.loc[['a','c']])\n",
        "print(pd_series.iloc[[0,2]])"
      ],
      "execution_count": 43,
      "outputs": [
        {
          "output_type": "stream",
          "text": [
            "1\n",
            "1\n",
            "a    1\n",
            "c    3\n",
            "dtype: int64\n",
            "a    1\n",
            "c    3\n",
            "dtype: int64\n"
          ],
          "name": "stdout"
        }
      ]
    },
    {
      "cell_type": "code",
      "metadata": {
        "colab": {
          "base_uri": "https://localhost:8080/"
        },
        "id": "MOuz-_6giDcG",
        "outputId": "f0e0a438-c24d-402b-9840-24fa1a8d90bb"
      },
      "source": [
        "pd_series.drop('b')"
      ],
      "execution_count": 44,
      "outputs": [
        {
          "output_type": "execute_result",
          "data": {
            "text/plain": [
              "a    1\n",
              "c    3\n",
              "d    4\n",
              "e    5\n",
              "dtype: int64"
            ]
          },
          "metadata": {
            "tags": []
          },
          "execution_count": 44
        }
      ]
    },
    {
      "cell_type": "code",
      "metadata": {
        "colab": {
          "base_uri": "https://localhost:8080/"
        },
        "id": "OeMrMnNAiF-s",
        "outputId": "3d38d82f-9a09-454b-ba9f-1fc23e40014e"
      },
      "source": [
        "print(pd_series)\n",
        "pd_series.drop('b', inplace=True)\n",
        "print(pd_series)"
      ],
      "execution_count": 45,
      "outputs": [
        {
          "output_type": "stream",
          "text": [
            "a    1\n",
            "b    2\n",
            "c    3\n",
            "d    4\n",
            "e    5\n",
            "dtype: int64\n",
            "a    1\n",
            "c    3\n",
            "d    4\n",
            "e    5\n",
            "dtype: int64\n"
          ],
          "name": "stdout"
        }
      ]
    },
    {
      "cell_type": "code",
      "metadata": {
        "id": "-cK2wCK3iKCt"
      },
      "source": [
        "data = {\n",
        "    'A': np.arange(15),\n",
        "    'B': np.random.randint(low=0, high=15, size=(15)),\n",
        "    'C': np.random.rand(15)\n",
        "}\n",
        "\n",
        "data_df = pd.DataFrame(data)"
      ],
      "execution_count": 46,
      "outputs": []
    },
    {
      "cell_type": "code",
      "metadata": {
        "colab": {
          "base_uri": "https://localhost:8080/",
          "height": 487
        },
        "id": "Wp4-_KGhjpdz",
        "outputId": "1a5e3a6e-2195-4429-f6a4-c8ff718a8e6c"
      },
      "source": [
        "data_df"
      ],
      "execution_count": 55,
      "outputs": [
        {
          "output_type": "execute_result",
          "data": {
            "text/html": [
              "<div>\n",
              "<style scoped>\n",
              "    .dataframe tbody tr th:only-of-type {\n",
              "        vertical-align: middle;\n",
              "    }\n",
              "\n",
              "    .dataframe tbody tr th {\n",
              "        vertical-align: top;\n",
              "    }\n",
              "\n",
              "    .dataframe thead th {\n",
              "        text-align: right;\n",
              "    }\n",
              "</style>\n",
              "<table border=\"1\" class=\"dataframe\">\n",
              "  <thead>\n",
              "    <tr style=\"text-align: right;\">\n",
              "      <th></th>\n",
              "      <th>A</th>\n",
              "      <th>B</th>\n",
              "      <th>C</th>\n",
              "    </tr>\n",
              "  </thead>\n",
              "  <tbody>\n",
              "    <tr>\n",
              "      <th>0</th>\n",
              "      <td>0</td>\n",
              "      <td>13</td>\n",
              "      <td>0.247145</td>\n",
              "    </tr>\n",
              "    <tr>\n",
              "      <th>1</th>\n",
              "      <td>1</td>\n",
              "      <td>10</td>\n",
              "      <td>0.890317</td>\n",
              "    </tr>\n",
              "    <tr>\n",
              "      <th>2</th>\n",
              "      <td>2</td>\n",
              "      <td>1</td>\n",
              "      <td>0.635175</td>\n",
              "    </tr>\n",
              "    <tr>\n",
              "      <th>3</th>\n",
              "      <td>3</td>\n",
              "      <td>13</td>\n",
              "      <td>0.360963</td>\n",
              "    </tr>\n",
              "    <tr>\n",
              "      <th>4</th>\n",
              "      <td>4</td>\n",
              "      <td>9</td>\n",
              "      <td>0.803401</td>\n",
              "    </tr>\n",
              "    <tr>\n",
              "      <th>5</th>\n",
              "      <td>5</td>\n",
              "      <td>10</td>\n",
              "      <td>0.371818</td>\n",
              "    </tr>\n",
              "    <tr>\n",
              "      <th>6</th>\n",
              "      <td>6</td>\n",
              "      <td>2</td>\n",
              "      <td>0.985415</td>\n",
              "    </tr>\n",
              "    <tr>\n",
              "      <th>7</th>\n",
              "      <td>7</td>\n",
              "      <td>14</td>\n",
              "      <td>0.758669</td>\n",
              "    </tr>\n",
              "    <tr>\n",
              "      <th>8</th>\n",
              "      <td>8</td>\n",
              "      <td>2</td>\n",
              "      <td>0.807335</td>\n",
              "    </tr>\n",
              "    <tr>\n",
              "      <th>9</th>\n",
              "      <td>9</td>\n",
              "      <td>7</td>\n",
              "      <td>0.882133</td>\n",
              "    </tr>\n",
              "    <tr>\n",
              "      <th>10</th>\n",
              "      <td>10</td>\n",
              "      <td>7</td>\n",
              "      <td>0.255349</td>\n",
              "    </tr>\n",
              "    <tr>\n",
              "      <th>11</th>\n",
              "      <td>11</td>\n",
              "      <td>11</td>\n",
              "      <td>0.758977</td>\n",
              "    </tr>\n",
              "    <tr>\n",
              "      <th>12</th>\n",
              "      <td>12</td>\n",
              "      <td>3</td>\n",
              "      <td>0.294407</td>\n",
              "    </tr>\n",
              "    <tr>\n",
              "      <th>13</th>\n",
              "      <td>13</td>\n",
              "      <td>0</td>\n",
              "      <td>0.454479</td>\n",
              "    </tr>\n",
              "    <tr>\n",
              "      <th>14</th>\n",
              "      <td>14</td>\n",
              "      <td>6</td>\n",
              "      <td>0.284229</td>\n",
              "    </tr>\n",
              "  </tbody>\n",
              "</table>\n",
              "</div>"
            ],
            "text/plain": [
              "     A   B         C\n",
              "0    0  13  0.247145\n",
              "1    1  10  0.890317\n",
              "2    2   1  0.635175\n",
              "3    3  13  0.360963\n",
              "4    4   9  0.803401\n",
              "5    5  10  0.371818\n",
              "6    6   2  0.985415\n",
              "7    7  14  0.758669\n",
              "8    8   2  0.807335\n",
              "9    9   7  0.882133\n",
              "10  10   7  0.255349\n",
              "11  11  11  0.758977\n",
              "12  12   3  0.294407\n",
              "13  13   0  0.454479\n",
              "14  14   6  0.284229"
            ]
          },
          "metadata": {
            "tags": []
          },
          "execution_count": 55
        }
      ]
    },
    {
      "cell_type": "code",
      "metadata": {
        "colab": {
          "base_uri": "https://localhost:8080/",
          "height": 194
        },
        "id": "Dwc0owh5iLlK",
        "outputId": "9bff0d00-86ff-49b8-e36c-401bc9d87a5d"
      },
      "source": [
        "data_df.tail()"
      ],
      "execution_count": 47,
      "outputs": [
        {
          "output_type": "execute_result",
          "data": {
            "text/html": [
              "<div>\n",
              "<style scoped>\n",
              "    .dataframe tbody tr th:only-of-type {\n",
              "        vertical-align: middle;\n",
              "    }\n",
              "\n",
              "    .dataframe tbody tr th {\n",
              "        vertical-align: top;\n",
              "    }\n",
              "\n",
              "    .dataframe thead th {\n",
              "        text-align: right;\n",
              "    }\n",
              "</style>\n",
              "<table border=\"1\" class=\"dataframe\">\n",
              "  <thead>\n",
              "    <tr style=\"text-align: right;\">\n",
              "      <th></th>\n",
              "      <th>A</th>\n",
              "      <th>B</th>\n",
              "      <th>C</th>\n",
              "    </tr>\n",
              "  </thead>\n",
              "  <tbody>\n",
              "    <tr>\n",
              "      <th>10</th>\n",
              "      <td>10</td>\n",
              "      <td>7</td>\n",
              "      <td>0.255349</td>\n",
              "    </tr>\n",
              "    <tr>\n",
              "      <th>11</th>\n",
              "      <td>11</td>\n",
              "      <td>11</td>\n",
              "      <td>0.758977</td>\n",
              "    </tr>\n",
              "    <tr>\n",
              "      <th>12</th>\n",
              "      <td>12</td>\n",
              "      <td>3</td>\n",
              "      <td>0.294407</td>\n",
              "    </tr>\n",
              "    <tr>\n",
              "      <th>13</th>\n",
              "      <td>13</td>\n",
              "      <td>0</td>\n",
              "      <td>0.454479</td>\n",
              "    </tr>\n",
              "    <tr>\n",
              "      <th>14</th>\n",
              "      <td>14</td>\n",
              "      <td>6</td>\n",
              "      <td>0.284229</td>\n",
              "    </tr>\n",
              "  </tbody>\n",
              "</table>\n",
              "</div>"
            ],
            "text/plain": [
              "     A   B         C\n",
              "10  10   7  0.255349\n",
              "11  11  11  0.758977\n",
              "12  12   3  0.294407\n",
              "13  13   0  0.454479\n",
              "14  14   6  0.284229"
            ]
          },
          "metadata": {
            "tags": []
          },
          "execution_count": 47
        }
      ]
    },
    {
      "cell_type": "code",
      "metadata": {
        "colab": {
          "base_uri": "https://localhost:8080/",
          "height": 194
        },
        "id": "250Qe8cMiMQf",
        "outputId": "f202912d-4141-46ac-b7a4-ac82e72049e3"
      },
      "source": [
        "data_df.head()"
      ],
      "execution_count": 48,
      "outputs": [
        {
          "output_type": "execute_result",
          "data": {
            "text/html": [
              "<div>\n",
              "<style scoped>\n",
              "    .dataframe tbody tr th:only-of-type {\n",
              "        vertical-align: middle;\n",
              "    }\n",
              "\n",
              "    .dataframe tbody tr th {\n",
              "        vertical-align: top;\n",
              "    }\n",
              "\n",
              "    .dataframe thead th {\n",
              "        text-align: right;\n",
              "    }\n",
              "</style>\n",
              "<table border=\"1\" class=\"dataframe\">\n",
              "  <thead>\n",
              "    <tr style=\"text-align: right;\">\n",
              "      <th></th>\n",
              "      <th>A</th>\n",
              "      <th>B</th>\n",
              "      <th>C</th>\n",
              "    </tr>\n",
              "  </thead>\n",
              "  <tbody>\n",
              "    <tr>\n",
              "      <th>0</th>\n",
              "      <td>0</td>\n",
              "      <td>13</td>\n",
              "      <td>0.247145</td>\n",
              "    </tr>\n",
              "    <tr>\n",
              "      <th>1</th>\n",
              "      <td>1</td>\n",
              "      <td>10</td>\n",
              "      <td>0.890317</td>\n",
              "    </tr>\n",
              "    <tr>\n",
              "      <th>2</th>\n",
              "      <td>2</td>\n",
              "      <td>1</td>\n",
              "      <td>0.635175</td>\n",
              "    </tr>\n",
              "    <tr>\n",
              "      <th>3</th>\n",
              "      <td>3</td>\n",
              "      <td>13</td>\n",
              "      <td>0.360963</td>\n",
              "    </tr>\n",
              "    <tr>\n",
              "      <th>4</th>\n",
              "      <td>4</td>\n",
              "      <td>9</td>\n",
              "      <td>0.803401</td>\n",
              "    </tr>\n",
              "  </tbody>\n",
              "</table>\n",
              "</div>"
            ],
            "text/plain": [
              "   A   B         C\n",
              "0  0  13  0.247145\n",
              "1  1  10  0.890317\n",
              "2  2   1  0.635175\n",
              "3  3  13  0.360963\n",
              "4  4   9  0.803401"
            ]
          },
          "metadata": {
            "tags": []
          },
          "execution_count": 48
        }
      ]
    },
    {
      "cell_type": "code",
      "metadata": {
        "colab": {
          "base_uri": "https://localhost:8080/"
        },
        "id": "_VorhQIriN9k",
        "outputId": "9ea311bf-1f7f-4db0-806f-78703d38ffb0"
      },
      "source": [
        "data_df.shape"
      ],
      "execution_count": 57,
      "outputs": [
        {
          "output_type": "execute_result",
          "data": {
            "text/plain": [
              "(15, 3)"
            ]
          },
          "metadata": {
            "tags": []
          },
          "execution_count": 57
        }
      ]
    },
    {
      "cell_type": "code",
      "metadata": {
        "colab": {
          "base_uri": "https://localhost:8080/",
          "height": 106
        },
        "id": "iPwh67OliWRz",
        "outputId": "7742a203-477d-46d0-b9a8-d521e1ee803b"
      },
      "source": [
        "data_df[1:3]"
      ],
      "execution_count": 58,
      "outputs": [
        {
          "output_type": "execute_result",
          "data": {
            "text/html": [
              "<div>\n",
              "<style scoped>\n",
              "    .dataframe tbody tr th:only-of-type {\n",
              "        vertical-align: middle;\n",
              "    }\n",
              "\n",
              "    .dataframe tbody tr th {\n",
              "        vertical-align: top;\n",
              "    }\n",
              "\n",
              "    .dataframe thead th {\n",
              "        text-align: right;\n",
              "    }\n",
              "</style>\n",
              "<table border=\"1\" class=\"dataframe\">\n",
              "  <thead>\n",
              "    <tr style=\"text-align: right;\">\n",
              "      <th></th>\n",
              "      <th>A</th>\n",
              "      <th>B</th>\n",
              "      <th>C</th>\n",
              "    </tr>\n",
              "  </thead>\n",
              "  <tbody>\n",
              "    <tr>\n",
              "      <th>1</th>\n",
              "      <td>1</td>\n",
              "      <td>10</td>\n",
              "      <td>0.890317</td>\n",
              "    </tr>\n",
              "    <tr>\n",
              "      <th>2</th>\n",
              "      <td>2</td>\n",
              "      <td>1</td>\n",
              "      <td>0.635175</td>\n",
              "    </tr>\n",
              "  </tbody>\n",
              "</table>\n",
              "</div>"
            ],
            "text/plain": [
              "   A   B         C\n",
              "1  1  10  0.890317\n",
              "2  2   1  0.635175"
            ]
          },
          "metadata": {
            "tags": []
          },
          "execution_count": 58
        }
      ]
    },
    {
      "cell_type": "code",
      "metadata": {
        "colab": {
          "base_uri": "https://localhost:8080/"
        },
        "id": "9qTQ4m8WiaJ4",
        "outputId": "9cd96764-7b52-48ed-aae1-f3654c3d35e8"
      },
      "source": [
        "data_df.loc[1]"
      ],
      "execution_count": 59,
      "outputs": [
        {
          "output_type": "execute_result",
          "data": {
            "text/plain": [
              "A     1.000000\n",
              "B    10.000000\n",
              "C     0.890317\n",
              "Name: 1, dtype: float64"
            ]
          },
          "metadata": {
            "tags": []
          },
          "execution_count": 59
        }
      ]
    },
    {
      "cell_type": "code",
      "metadata": {
        "colab": {
          "base_uri": "https://localhost:8080/"
        },
        "id": "8RS0txLaib0m",
        "outputId": "a81bf092-09b7-444a-f335-7b576106b2e0"
      },
      "source": [
        "data_df.loc[1]['C']"
      ],
      "execution_count": 60,
      "outputs": [
        {
          "output_type": "execute_result",
          "data": {
            "text/plain": [
              "0.8903167322083826"
            ]
          },
          "metadata": {
            "tags": []
          },
          "execution_count": 60
        }
      ]
    },
    {
      "cell_type": "code",
      "metadata": {
        "colab": {
          "base_uri": "https://localhost:8080/",
          "height": 487
        },
        "id": "qCvRvkqtidod",
        "outputId": "cfec80f0-e708-4d58-8f6c-95f520835e06"
      },
      "source": [
        "data_df['D'] = data_df['A'] >= 5\n",
        "data_df"
      ],
      "execution_count": 61,
      "outputs": [
        {
          "output_type": "execute_result",
          "data": {
            "text/html": [
              "<div>\n",
              "<style scoped>\n",
              "    .dataframe tbody tr th:only-of-type {\n",
              "        vertical-align: middle;\n",
              "    }\n",
              "\n",
              "    .dataframe tbody tr th {\n",
              "        vertical-align: top;\n",
              "    }\n",
              "\n",
              "    .dataframe thead th {\n",
              "        text-align: right;\n",
              "    }\n",
              "</style>\n",
              "<table border=\"1\" class=\"dataframe\">\n",
              "  <thead>\n",
              "    <tr style=\"text-align: right;\">\n",
              "      <th></th>\n",
              "      <th>A</th>\n",
              "      <th>B</th>\n",
              "      <th>C</th>\n",
              "      <th>D</th>\n",
              "    </tr>\n",
              "  </thead>\n",
              "  <tbody>\n",
              "    <tr>\n",
              "      <th>0</th>\n",
              "      <td>0</td>\n",
              "      <td>13</td>\n",
              "      <td>0.247145</td>\n",
              "      <td>False</td>\n",
              "    </tr>\n",
              "    <tr>\n",
              "      <th>1</th>\n",
              "      <td>1</td>\n",
              "      <td>10</td>\n",
              "      <td>0.890317</td>\n",
              "      <td>False</td>\n",
              "    </tr>\n",
              "    <tr>\n",
              "      <th>2</th>\n",
              "      <td>2</td>\n",
              "      <td>1</td>\n",
              "      <td>0.635175</td>\n",
              "      <td>False</td>\n",
              "    </tr>\n",
              "    <tr>\n",
              "      <th>3</th>\n",
              "      <td>3</td>\n",
              "      <td>13</td>\n",
              "      <td>0.360963</td>\n",
              "      <td>False</td>\n",
              "    </tr>\n",
              "    <tr>\n",
              "      <th>4</th>\n",
              "      <td>4</td>\n",
              "      <td>9</td>\n",
              "      <td>0.803401</td>\n",
              "      <td>False</td>\n",
              "    </tr>\n",
              "    <tr>\n",
              "      <th>5</th>\n",
              "      <td>5</td>\n",
              "      <td>10</td>\n",
              "      <td>0.371818</td>\n",
              "      <td>True</td>\n",
              "    </tr>\n",
              "    <tr>\n",
              "      <th>6</th>\n",
              "      <td>6</td>\n",
              "      <td>2</td>\n",
              "      <td>0.985415</td>\n",
              "      <td>True</td>\n",
              "    </tr>\n",
              "    <tr>\n",
              "      <th>7</th>\n",
              "      <td>7</td>\n",
              "      <td>14</td>\n",
              "      <td>0.758669</td>\n",
              "      <td>True</td>\n",
              "    </tr>\n",
              "    <tr>\n",
              "      <th>8</th>\n",
              "      <td>8</td>\n",
              "      <td>2</td>\n",
              "      <td>0.807335</td>\n",
              "      <td>True</td>\n",
              "    </tr>\n",
              "    <tr>\n",
              "      <th>9</th>\n",
              "      <td>9</td>\n",
              "      <td>7</td>\n",
              "      <td>0.882133</td>\n",
              "      <td>True</td>\n",
              "    </tr>\n",
              "    <tr>\n",
              "      <th>10</th>\n",
              "      <td>10</td>\n",
              "      <td>7</td>\n",
              "      <td>0.255349</td>\n",
              "      <td>True</td>\n",
              "    </tr>\n",
              "    <tr>\n",
              "      <th>11</th>\n",
              "      <td>11</td>\n",
              "      <td>11</td>\n",
              "      <td>0.758977</td>\n",
              "      <td>True</td>\n",
              "    </tr>\n",
              "    <tr>\n",
              "      <th>12</th>\n",
              "      <td>12</td>\n",
              "      <td>3</td>\n",
              "      <td>0.294407</td>\n",
              "      <td>True</td>\n",
              "    </tr>\n",
              "    <tr>\n",
              "      <th>13</th>\n",
              "      <td>13</td>\n",
              "      <td>0</td>\n",
              "      <td>0.454479</td>\n",
              "      <td>True</td>\n",
              "    </tr>\n",
              "    <tr>\n",
              "      <th>14</th>\n",
              "      <td>14</td>\n",
              "      <td>6</td>\n",
              "      <td>0.284229</td>\n",
              "      <td>True</td>\n",
              "    </tr>\n",
              "  </tbody>\n",
              "</table>\n",
              "</div>"
            ],
            "text/plain": [
              "     A   B         C      D\n",
              "0    0  13  0.247145  False\n",
              "1    1  10  0.890317  False\n",
              "2    2   1  0.635175  False\n",
              "3    3  13  0.360963  False\n",
              "4    4   9  0.803401  False\n",
              "5    5  10  0.371818   True\n",
              "6    6   2  0.985415   True\n",
              "7    7  14  0.758669   True\n",
              "8    8   2  0.807335   True\n",
              "9    9   7  0.882133   True\n",
              "10  10   7  0.255349   True\n",
              "11  11  11  0.758977   True\n",
              "12  12   3  0.294407   True\n",
              "13  13   0  0.454479   True\n",
              "14  14   6  0.284229   True"
            ]
          },
          "metadata": {
            "tags": []
          },
          "execution_count": 61
        }
      ]
    },
    {
      "cell_type": "code",
      "metadata": {
        "id": "Q0EUcK6higwb"
      },
      "source": [
        "data_df.drop('D', axis=1, inplace=True)"
      ],
      "execution_count": 53,
      "outputs": []
    },
    {
      "cell_type": "code",
      "metadata": {
        "colab": {
          "base_uri": "https://localhost:8080/",
          "height": 487
        },
        "id": "tzcMquI-iir3",
        "outputId": "6b17871d-647e-4211-b19f-da71803e643b"
      },
      "source": [
        "data_df.sort_index(axis=0, ascending=False)"
      ],
      "execution_count": 54,
      "outputs": [
        {
          "output_type": "execute_result",
          "data": {
            "text/html": [
              "<div>\n",
              "<style scoped>\n",
              "    .dataframe tbody tr th:only-of-type {\n",
              "        vertical-align: middle;\n",
              "    }\n",
              "\n",
              "    .dataframe tbody tr th {\n",
              "        vertical-align: top;\n",
              "    }\n",
              "\n",
              "    .dataframe thead th {\n",
              "        text-align: right;\n",
              "    }\n",
              "</style>\n",
              "<table border=\"1\" class=\"dataframe\">\n",
              "  <thead>\n",
              "    <tr style=\"text-align: right;\">\n",
              "      <th></th>\n",
              "      <th>A</th>\n",
              "      <th>B</th>\n",
              "      <th>C</th>\n",
              "    </tr>\n",
              "  </thead>\n",
              "  <tbody>\n",
              "    <tr>\n",
              "      <th>14</th>\n",
              "      <td>14</td>\n",
              "      <td>6</td>\n",
              "      <td>0.284229</td>\n",
              "    </tr>\n",
              "    <tr>\n",
              "      <th>13</th>\n",
              "      <td>13</td>\n",
              "      <td>0</td>\n",
              "      <td>0.454479</td>\n",
              "    </tr>\n",
              "    <tr>\n",
              "      <th>12</th>\n",
              "      <td>12</td>\n",
              "      <td>3</td>\n",
              "      <td>0.294407</td>\n",
              "    </tr>\n",
              "    <tr>\n",
              "      <th>11</th>\n",
              "      <td>11</td>\n",
              "      <td>11</td>\n",
              "      <td>0.758977</td>\n",
              "    </tr>\n",
              "    <tr>\n",
              "      <th>10</th>\n",
              "      <td>10</td>\n",
              "      <td>7</td>\n",
              "      <td>0.255349</td>\n",
              "    </tr>\n",
              "    <tr>\n",
              "      <th>9</th>\n",
              "      <td>9</td>\n",
              "      <td>7</td>\n",
              "      <td>0.882133</td>\n",
              "    </tr>\n",
              "    <tr>\n",
              "      <th>8</th>\n",
              "      <td>8</td>\n",
              "      <td>2</td>\n",
              "      <td>0.807335</td>\n",
              "    </tr>\n",
              "    <tr>\n",
              "      <th>7</th>\n",
              "      <td>7</td>\n",
              "      <td>14</td>\n",
              "      <td>0.758669</td>\n",
              "    </tr>\n",
              "    <tr>\n",
              "      <th>6</th>\n",
              "      <td>6</td>\n",
              "      <td>2</td>\n",
              "      <td>0.985415</td>\n",
              "    </tr>\n",
              "    <tr>\n",
              "      <th>5</th>\n",
              "      <td>5</td>\n",
              "      <td>10</td>\n",
              "      <td>0.371818</td>\n",
              "    </tr>\n",
              "    <tr>\n",
              "      <th>4</th>\n",
              "      <td>4</td>\n",
              "      <td>9</td>\n",
              "      <td>0.803401</td>\n",
              "    </tr>\n",
              "    <tr>\n",
              "      <th>3</th>\n",
              "      <td>3</td>\n",
              "      <td>13</td>\n",
              "      <td>0.360963</td>\n",
              "    </tr>\n",
              "    <tr>\n",
              "      <th>2</th>\n",
              "      <td>2</td>\n",
              "      <td>1</td>\n",
              "      <td>0.635175</td>\n",
              "    </tr>\n",
              "    <tr>\n",
              "      <th>1</th>\n",
              "      <td>1</td>\n",
              "      <td>10</td>\n",
              "      <td>0.890317</td>\n",
              "    </tr>\n",
              "    <tr>\n",
              "      <th>0</th>\n",
              "      <td>0</td>\n",
              "      <td>13</td>\n",
              "      <td>0.247145</td>\n",
              "    </tr>\n",
              "  </tbody>\n",
              "</table>\n",
              "</div>"
            ],
            "text/plain": [
              "     A   B         C\n",
              "14  14   6  0.284229\n",
              "13  13   0  0.454479\n",
              "12  12   3  0.294407\n",
              "11  11  11  0.758977\n",
              "10  10   7  0.255349\n",
              "9    9   7  0.882133\n",
              "8    8   2  0.807335\n",
              "7    7  14  0.758669\n",
              "6    6   2  0.985415\n",
              "5    5  10  0.371818\n",
              "4    4   9  0.803401\n",
              "3    3  13  0.360963\n",
              "2    2   1  0.635175\n",
              "1    1  10  0.890317\n",
              "0    0  13  0.247145"
            ]
          },
          "metadata": {
            "tags": []
          },
          "execution_count": 54
        }
      ]
    },
    {
      "cell_type": "code",
      "metadata": {
        "id": "ICHrYoJ-ixxR"
      },
      "source": [
        ""
      ],
      "execution_count": null,
      "outputs": []
    }
  ]
}