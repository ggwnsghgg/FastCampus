{
  "nbformat": 4,
  "nbformat_minor": 0,
  "metadata": {
    "colab": {
      "name": "기본코드훈련.ipynb",
      "provenance": [],
      "collapsed_sections": [],
      "authorship_tag": "ABX9TyPdrdw45YoNOgz6Scy+nqGe",
      "include_colab_link": true
    },
    "kernelspec": {
      "name": "python3",
      "display_name": "Python 3"
    },
    "language_info": {
      "name": "python"
    }
  },
  "cells": [
    {
      "cell_type": "markdown",
      "metadata": {
        "id": "view-in-github",
        "colab_type": "text"
      },
      "source": [
        "<a href=\"https://colab.research.google.com/github/ggwnsghgg/FastCampus/blob/main/%EA%B8%B0%EB%B3%B8%EC%BD%94%EB%93%9C%ED%9B%88%EB%A0%A8.ipynb\" target=\"_parent\"><img src=\"https://colab.research.google.com/assets/colab-badge.svg\" alt=\"Open In Colab\"/></a>"
      ]
    },
    {
      "cell_type": "markdown",
      "metadata": {
        "id": "TDGd3v-ptFTh"
      },
      "source": [
        "\n",
        "## 1. numpy, array, matrix 등"
      ]
    },
    {
      "cell_type": "code",
      "metadata": {
        "id": "MVipZ_bAsEdB"
      },
      "source": [
        "import warnings\n",
        "import numpy as np\n",
        "warnings.filterwarnings(\"ignore\")"
      ],
      "execution_count": null,
      "outputs": []
    },
    {
      "cell_type": "markdown",
      "metadata": {
        "id": "eHxfuhDbtil7"
      },
      "source": [
        "### 리스트, 행렬 선언"
      ]
    },
    {
      "cell_type": "code",
      "metadata": {
        "colab": {
          "base_uri": "https://localhost:8080/"
        },
        "id": "ypTLHtkfsX0m",
        "outputId": "0518db9b-1f41-423e-8b68-05231fb1d3b7"
      },
      "source": [
        "# list_name(변수명 설정) = [\"item-1\", \"item-2\", ... , \"item-n\"]\n",
        "\n",
        "a = [1, 2, 3]\n",
        "b = [\"a\", \"b\", \"c\"]\n",
        "c = [[\"a\"], [\"a\", \"b\"], [\"a\", \"c\"], [\"a\", \"b\", \"c\"]]\n",
        "\n",
        "print(a)\n",
        "print(b)\n",
        "print(c)"
      ],
      "execution_count": null,
      "outputs": [
        {
          "output_type": "stream",
          "text": [
            "[1, 2, 3]\n",
            "['a', 'b', 'c']\n",
            "[['a'], ['a', 'b'], ['a', 'c'], ['a', 'b', 'c']]\n"
          ],
          "name": "stdout"
        }
      ]
    },
    {
      "cell_type": "code",
      "metadata": {
        "colab": {
          "base_uri": "https://localhost:8080/"
        },
        "id": "gTvpnBMKsgYt",
        "outputId": "1c221219-8da0-4600-8028-8600dce4b52c"
      },
      "source": [
        "# append()로 리스트에 item 추가하기\n",
        "c.append('new_item')\n",
        "c.append(['new_item_list'])\n",
        "\n",
        "print(c)"
      ],
      "execution_count": null,
      "outputs": [
        {
          "output_type": "stream",
          "text": [
            "[['a'], ['a', 'b'], ['a', 'c'], ['a', 'b', 'c'], 'new_item', ['new_item_list']]\n"
          ],
          "name": "stdout"
        }
      ]
    },
    {
      "cell_type": "code",
      "metadata": {
        "colab": {
          "base_uri": "https://localhost:8080/"
        },
        "id": "kNARafxrtoBX",
        "outputId": "9d399c3b-62de-4b0a-ee00-3909f862c81e"
      },
      "source": [
        "a = np.array([1, 2, 3])\n",
        "b = np.array([\"a\", \"b\", \"c\"])\n",
        "c = np.array([[\"a\"], [\"a\", \"b\"], [\"a\", \"c\"], [\"a\", \"b\", \"c\"]])\n",
        "\n",
        "print(a)\n",
        "print(b)\n",
        "print(c)"
      ],
      "execution_count": null,
      "outputs": [
        {
          "output_type": "stream",
          "text": [
            "[1 2 3]\n",
            "['a' 'b' 'c']\n",
            "[list(['a']) list(['a', 'b']) list(['a', 'c']) list(['a', 'b', 'c'])]\n"
          ],
          "name": "stdout"
        }
      ]
    },
    {
      "cell_type": "code",
      "metadata": {
        "colab": {
          "base_uri": "https://localhost:8080/"
        },
        "id": "qZjLEltAtuTk",
        "outputId": "6ba04a5c-63b7-4b3e-d199-866ecc41d746"
      },
      "source": [
        "# 배열(또는 행렬)을 1로 채우기\n",
        "print(np.ones((1, 5)))\n",
        "print(np.ones((3, 2)))"
      ],
      "execution_count": null,
      "outputs": [
        {
          "output_type": "stream",
          "text": [
            "[[1. 1. 1. 1. 1.]]\n",
            "[[1. 1.]\n",
            " [1. 1.]\n",
            " [1. 1.]]\n"
          ],
          "name": "stdout"
        }
      ]
    },
    {
      "cell_type": "code",
      "metadata": {
        "colab": {
          "base_uri": "https://localhost:8080/"
        },
        "id": "RGTMcG0Yt5l5",
        "outputId": "d3785c13-0ffb-4722-a627-b55a4bc98d30"
      },
      "source": [
        "# 배열(또는 행렬)을 0으로 채우기\n",
        "print(np.zeros((1, 5)))\n",
        "print(np.zeros((3, 2)))"
      ],
      "execution_count": null,
      "outputs": [
        {
          "output_type": "stream",
          "text": [
            "[[0. 0. 0. 0. 0.]]\n",
            "[[0. 0.]\n",
            " [0. 0.]\n",
            " [0. 0.]]\n"
          ],
          "name": "stdout"
        }
      ]
    },
    {
      "cell_type": "code",
      "metadata": {
        "colab": {
          "base_uri": "https://localhost:8080/"
        },
        "id": "USQc0snrt7Be",
        "outputId": "96df813c-d67f-4523-c572-5ead53d7985c"
      },
      "source": [
        "\n",
        "# 주어진 범위 안에서 순차적으로 증가하는 리스트 만들기\n",
        "# np.arange([start,] stop, [step, ] dtype=None)\n",
        "\n",
        "print(np.arange(10))\n",
        "print(np.arange(3,7, dtype=np.float))\n",
        "print(np.arange(3,10,2))"
      ],
      "execution_count": null,
      "outputs": [
        {
          "output_type": "stream",
          "text": [
            "[0 1 2 3 4 5 6 7 8 9]\n",
            "[3. 4. 5. 6.]\n",
            "[3 5 7 9]\n"
          ],
          "name": "stdout"
        }
      ]
    },
    {
      "cell_type": "code",
      "metadata": {
        "colab": {
          "base_uri": "https://localhost:8080/"
        },
        "id": "LyTCkU92t8TS",
        "outputId": "efe709f2-0d07-45fa-a110-795da8495574"
      },
      "source": [
        "\n",
        "# 행렬 선언하기\n",
        "mat1 = np.array([[1,2,3],[4,5,6]])\n",
        "\n",
        "# random으로 matrix 만들기\n",
        "mat2 = np.random.randint(low=1, high=10, size=(3,2))\n",
        "mat3 = np.random.rand(3,2)\n",
        "\n",
        "print(mat1)\n",
        "print(mat2)\n",
        "print(mat3)"
      ],
      "execution_count": null,
      "outputs": [
        {
          "output_type": "stream",
          "text": [
            "[[1 2 3]\n",
            " [4 5 6]]\n",
            "[[7 5]\n",
            " [2 6]\n",
            " [3 2]]\n",
            "[[0.42977376 0.86688713]\n",
            " [0.18013564 0.20180578]\n",
            " [0.93822092 0.00121369]]\n"
          ],
          "name": "stdout"
        }
      ]
    },
    {
      "cell_type": "markdown",
      "metadata": {
        "id": "DlGkDL6FuS04"
      },
      "source": [
        "**리스트 인덱싱(Indexing) & 슬라이싱(Slicing**"
      ]
    },
    {
      "cell_type": "code",
      "metadata": {
        "colab": {
          "base_uri": "https://localhost:8080/"
        },
        "id": "RRhX7iQFt9ky",
        "outputId": "d06d028b-cb54-4eb7-8ed9-184eb52e1bee"
      },
      "source": [
        "\n",
        "# Indexing\n",
        "a = [1,3,5,7,9,11]\n",
        "print(a[2], a[5], a[-1])"
      ],
      "execution_count": null,
      "outputs": [
        {
          "output_type": "stream",
          "text": [
            "5 11 11\n"
          ],
          "name": "stdout"
        }
      ]
    },
    {
      "cell_type": "code",
      "metadata": {
        "colab": {
          "base_uri": "https://localhost:8080/"
        },
        "id": "5TRQ8mguuY9r",
        "outputId": "f8711891-f185-4572-b78e-c58daa709ba9"
      },
      "source": [
        "b = [2,4,6,8,10]\n",
        "print(b[2:])\n",
        "print(b[:2])\n",
        "print(b[:])"
      ],
      "execution_count": null,
      "outputs": [
        {
          "output_type": "stream",
          "text": [
            "[6, 8, 10]\n",
            "[2, 4]\n",
            "[2, 4, 6, 8, 10]\n"
          ],
          "name": "stdout"
        }
      ]
    },
    {
      "cell_type": "markdown",
      "metadata": {
        "id": "KRY8H7wSucpZ"
      },
      "source": [
        "**numpy의 reshape (PyTorch의 view와 비교)**"
      ]
    },
    {
      "cell_type": "code",
      "metadata": {
        "colab": {
          "base_uri": "https://localhost:8080/"
        },
        "id": "tvDCzOueuZL9",
        "outputId": "22dfdfc7-72ea-4c8d-d79b-0fdae352467d"
      },
      "source": [
        "\n",
        "# (row, column)\n",
        "mat1 = np.random.rand(6,3)\n",
        "print(mat1)"
      ],
      "execution_count": null,
      "outputs": [
        {
          "output_type": "stream",
          "text": [
            "[[0.40680711 0.04011088 0.84519065]\n",
            " [0.94820812 0.00683675 0.64851462]\n",
            " [0.13812171 0.68633103 0.9662075 ]\n",
            " [0.33189112 0.28300442 0.21025054]\n",
            " [0.08644741 0.90565945 0.30258431]\n",
            " [0.2649564  0.36360641 0.71147608]]\n"
          ],
          "name": "stdout"
        }
      ]
    },
    {
      "cell_type": "code",
      "metadata": {
        "colab": {
          "base_uri": "https://localhost:8080/"
        },
        "id": "JHhu_g7fufa9",
        "outputId": "e25c26d0-d80c-42f5-b7a7-3719dc557675"
      },
      "source": [
        "# -1: all\n",
        "print(mat1.reshape(1, -1).shape)\n",
        "print(mat1.reshape(1, -1))\n",
        "print(\"=====\")\n",
        "print(mat1.reshape(-1, 1).shape)\n",
        "print(mat1.reshape(-1, 1))"
      ],
      "execution_count": null,
      "outputs": [
        {
          "output_type": "stream",
          "text": [
            "(1, 18)\n",
            "[[0.65479073 0.02701063 0.30966554 0.89387263 0.62398145 0.61924527\n",
            "  0.35119917 0.14728155 0.97152659 0.48591906 0.20931785 0.46945018\n",
            "  0.70136112 0.49407847 0.85682403 0.72470492 0.03107278 0.62194844]]\n",
            "=====\n",
            "(18, 1)\n",
            "[[0.65479073]\n",
            " [0.02701063]\n",
            " [0.30966554]\n",
            " [0.89387263]\n",
            " [0.62398145]\n",
            " [0.61924527]\n",
            " [0.35119917]\n",
            " [0.14728155]\n",
            " [0.97152659]\n",
            " [0.48591906]\n",
            " [0.20931785]\n",
            " [0.46945018]\n",
            " [0.70136112]\n",
            " [0.49407847]\n",
            " [0.85682403]\n",
            " [0.72470492]\n",
            " [0.03107278]\n",
            " [0.62194844]]\n"
          ],
          "name": "stdout"
        }
      ]
    },
    {
      "cell_type": "code",
      "metadata": {
        "colab": {
          "base_uri": "https://localhost:8080/"
        },
        "id": "Ap66X2ChvLYs",
        "outputId": "b7771c98-b3d9-4f26-9ea1-9361749bd505"
      },
      "source": [
        "print(mat1.reshape(2, 9).shape)\n",
        "print(mat1.reshape(9, 2))"
      ],
      "execution_count": null,
      "outputs": [
        {
          "output_type": "stream",
          "text": [
            "(2, 9)\n",
            "[[0.65479073 0.02701063]\n",
            " [0.30966554 0.89387263]\n",
            " [0.62398145 0.61924527]\n",
            " [0.35119917 0.14728155]\n",
            " [0.97152659 0.48591906]\n",
            " [0.20931785 0.46945018]\n",
            " [0.70136112 0.49407847]\n",
            " [0.85682403 0.72470492]\n",
            " [0.03107278 0.62194844]]\n"
          ],
          "name": "stdout"
        }
      ]
    },
    {
      "cell_type": "code",
      "metadata": {
        "colab": {
          "base_uri": "https://localhost:8080/",
          "height": 170
        },
        "id": "Lqle_JhyvflG",
        "outputId": "5c0b3dba-5e7b-4b62-c4f5-99ab3100be62"
      },
      "source": [
        "mat1.reshape(2,5)"
      ],
      "execution_count": null,
      "outputs": [
        {
          "output_type": "error",
          "ename": "ValueError",
          "evalue": "ignored",
          "traceback": [
            "\u001b[0;31m---------------------------------------------------------------------------\u001b[0m",
            "\u001b[0;31mValueError\u001b[0m                                Traceback (most recent call last)",
            "\u001b[0;32m<ipython-input-18-634a26252eb7>\u001b[0m in \u001b[0;36m<module>\u001b[0;34m()\u001b[0m\n\u001b[0;32m----> 1\u001b[0;31m \u001b[0mmat1\u001b[0m\u001b[0;34m.\u001b[0m\u001b[0mreshape\u001b[0m\u001b[0;34m(\u001b[0m\u001b[0;36m2\u001b[0m\u001b[0;34m,\u001b[0m\u001b[0;36m5\u001b[0m\u001b[0;34m)\u001b[0m\u001b[0;34m\u001b[0m\u001b[0;34m\u001b[0m\u001b[0m\n\u001b[0m",
            "\u001b[0;31mValueError\u001b[0m: cannot reshape array of size 18 into shape (2,5)"
          ]
        }
      ]
    },
    {
      "cell_type": "code",
      "metadata": {
        "colab": {
          "base_uri": "https://localhost:8080/"
        },
        "id": "5aQYEiC9vk80",
        "outputId": "5ec6ad77-dfe0-475e-a888-fdd380eaba54"
      },
      "source": [
        "# tensor 형태로 나타내기 tensor 형태로 나타내기\n",
        "print(mat1.reshape(3,2,3).shape)\n",
        "print(mat1.reshape(3,2,3))\n",
        "print(mat1.reshape(3,2,3).shape)\n",
        "print(mat1.reshape(3,2,3))"
      ],
      "execution_count": null,
      "outputs": [
        {
          "output_type": "stream",
          "text": [
            "(3, 2, 3)\n",
            "[[[0.40680711 0.04011088 0.84519065]\n",
            "  [0.94820812 0.00683675 0.64851462]]\n",
            "\n",
            " [[0.13812171 0.68633103 0.9662075 ]\n",
            "  [0.33189112 0.28300442 0.21025054]]\n",
            "\n",
            " [[0.08644741 0.90565945 0.30258431]\n",
            "  [0.2649564  0.36360641 0.71147608]]]\n"
          ],
          "name": "stdout"
        }
      ]
    },
    {
      "cell_type": "code",
      "metadata": {
        "colab": {
          "base_uri": "https://localhost:8080/"
        },
        "id": "-jkdAdDhw3BB",
        "outputId": "3d1fdee9-74b0-42f7-aa4b-638080eca4b7"
      },
      "source": [
        "\n",
        "mat2 = np.arange(24).reshape(-1, 4)\n",
        "print(mat2)"
      ],
      "execution_count": null,
      "outputs": [
        {
          "output_type": "stream",
          "text": [
            "[[ 0  1  2  3]\n",
            " [ 4  5  6  7]\n",
            " [ 8  9 10 11]\n",
            " [12 13 14 15]\n",
            " [16 17 18 19]\n",
            " [20 21 22 23]]\n"
          ],
          "name": "stdout"
        }
      ]
    },
    {
      "cell_type": "code",
      "metadata": {
        "colab": {
          "base_uri": "https://localhost:8080/"
        },
        "id": "OfHc2zJuw9Z0",
        "outputId": "0aebb9d2-b58a-4f0a-f8e2-a7abaa6ea5d9"
      },
      "source": [
        "mat2[:1,:3]"
      ],
      "execution_count": null,
      "outputs": [
        {
          "output_type": "execute_result",
          "data": {
            "text/plain": [
              "array([[0, 1, 2]])"
            ]
          },
          "metadata": {
            "tags": []
          },
          "execution_count": 21
        }
      ]
    },
    {
      "cell_type": "code",
      "metadata": {
        "colab": {
          "base_uri": "https://localhost:8080/"
        },
        "id": "VudOF55sw-jg",
        "outputId": "5922dec7-7a23-461f-f357-b995c7ef5d9e"
      },
      "source": [
        "mat2[3, 0:2]"
      ],
      "execution_count": null,
      "outputs": [
        {
          "output_type": "execute_result",
          "data": {
            "text/plain": [
              "array([12, 13])"
            ]
          },
          "metadata": {
            "tags": []
          },
          "execution_count": 22
        }
      ]
    },
    {
      "cell_type": "code",
      "metadata": {
        "colab": {
          "base_uri": "https://localhost:8080/"
        },
        "id": "mi71oLGjw_cY",
        "outputId": "b1a6e50f-c1a9-4fb6-c45f-458430b6a9b6"
      },
      "source": [
        "\n",
        "x = np.array([[1,3,5],[7,9,11],[13,15,17]])\n",
        "y = np.array([[2,4,6],[8,10,12],[14,16,18]])\n",
        "\n",
        "print(x)\n",
        "print(y)"
      ],
      "execution_count": null,
      "outputs": [
        {
          "output_type": "stream",
          "text": [
            "[[ 1  3  5]\n",
            " [ 7  9 11]\n",
            " [13 15 17]]\n",
            "[[ 2  4  6]\n",
            " [ 8 10 12]\n",
            " [14 16 18]]\n"
          ],
          "name": "stdout"
        }
      ]
    },
    {
      "cell_type": "code",
      "metadata": {
        "colab": {
          "base_uri": "https://localhost:8080/"
        },
        "id": "jfHisOJLxkOo",
        "outputId": "919ffb15-9056-4553-db76-3b8a5ae567ac"
      },
      "source": [
        "\n",
        "# add\n",
        "x + y"
      ],
      "execution_count": null,
      "outputs": [
        {
          "output_type": "execute_result",
          "data": {
            "text/plain": [
              "array([[ 3,  7, 11],\n",
              "       [15, 19, 23],\n",
              "       [27, 31, 35]])"
            ]
          },
          "metadata": {
            "tags": []
          },
          "execution_count": 24
        }
      ]
    },
    {
      "cell_type": "code",
      "metadata": {
        "colab": {
          "base_uri": "https://localhost:8080/"
        },
        "id": "gPCOX6BtxlSV",
        "outputId": "0e33fa10-d5aa-4217-ffb1-1eacd8e2f960"
      },
      "source": [
        "x-y"
      ],
      "execution_count": null,
      "outputs": [
        {
          "output_type": "execute_result",
          "data": {
            "text/plain": [
              "array([[-1, -1, -1],\n",
              "       [-1, -1, -1],\n",
              "       [-1, -1, -1]])"
            ]
          },
          "metadata": {
            "tags": []
          },
          "execution_count": 25
        }
      ]
    },
    {
      "cell_type": "code",
      "metadata": {
        "colab": {
          "base_uri": "https://localhost:8080/"
        },
        "id": "jpRM25kwxsxc",
        "outputId": "6cab8dcf-db30-4b01-f112-5f10bd7bb2a9"
      },
      "source": [
        "x*y"
      ],
      "execution_count": null,
      "outputs": [
        {
          "output_type": "execute_result",
          "data": {
            "text/plain": [
              "array([[  2,  12,  30],\n",
              "       [ 56,  90, 132],\n",
              "       [182, 240, 306]])"
            ]
          },
          "metadata": {
            "tags": []
          },
          "execution_count": 26
        }
      ]
    },
    {
      "cell_type": "code",
      "metadata": {
        "colab": {
          "base_uri": "https://localhost:8080/"
        },
        "id": "3Vo7DW9BxtQO",
        "outputId": "27437872-573b-46b1-e2ab-f69c51f75098"
      },
      "source": [
        "x/y"
      ],
      "execution_count": null,
      "outputs": [
        {
          "output_type": "execute_result",
          "data": {
            "text/plain": [
              "array([[0.5       , 0.75      , 0.83333333],\n",
              "       [0.875     , 0.9       , 0.91666667],\n",
              "       [0.92857143, 0.9375    , 0.94444444]])"
            ]
          },
          "metadata": {
            "tags": []
          },
          "execution_count": 27
        }
      ]
    },
    {
      "cell_type": "code",
      "metadata": {
        "colab": {
          "base_uri": "https://localhost:8080/"
        },
        "id": "REsJ4rifxtn2",
        "outputId": "151507e2-e008-4b39-9b05-9b1b880b44b8"
      },
      "source": [
        "print(x ** 2)\n",
        "print(np.power(x, 2))"
      ],
      "execution_count": null,
      "outputs": [
        {
          "output_type": "stream",
          "text": [
            "[[  1   9  25]\n",
            " [ 49  81 121]\n",
            " [169 225 289]]\n",
            "[[  1   9  25]\n",
            " [ 49  81 121]\n",
            " [169 225 289]]\n"
          ],
          "name": "stdout"
        }
      ]
    },
    {
      "cell_type": "code",
      "metadata": {
        "colab": {
          "base_uri": "https://localhost:8080/"
        },
        "id": "OBTcBhylxvwU",
        "outputId": "7fea5db7-4a3a-47ef-86e8-0e1f851f0605"
      },
      "source": [
        "np.dot(x, y)"
      ],
      "execution_count": null,
      "outputs": [
        {
          "output_type": "execute_result",
          "data": {
            "text/plain": [
              "array([[ 96, 114, 132],\n",
              "       [240, 294, 348],\n",
              "       [384, 474, 564]])"
            ]
          },
          "metadata": {
            "tags": []
          },
          "execution_count": 30
        }
      ]
    },
    {
      "cell_type": "code",
      "metadata": {
        "colab": {
          "base_uri": "https://localhost:8080/"
        },
        "id": "2hshu94CxzyZ",
        "outputId": "b55e948a-f371-4627-845f-037706339d11"
      },
      "source": [
        "np.sqrt(x)"
      ],
      "execution_count": null,
      "outputs": [
        {
          "output_type": "execute_result",
          "data": {
            "text/plain": [
              "array([[1.        , 1.73205081, 2.23606798],\n",
              "       [2.64575131, 3.        , 3.31662479],\n",
              "       [3.60555128, 3.87298335, 4.12310563]])"
            ]
          },
          "metadata": {
            "tags": []
          },
          "execution_count": 32
        }
      ]
    },
    {
      "cell_type": "code",
      "metadata": {
        "colab": {
          "base_uri": "https://localhost:8080/"
        },
        "id": "MPBJvr7HyFwj",
        "outputId": "0a11ea26-c2d5-4451-add6-449cc958d238"
      },
      "source": [
        "\n",
        "# More on matrix operation\n",
        "z1 = np.array([[2,2,2]])\n",
        "z2 = np.array([[2,2]])\n",
        "\n",
        "x * z1"
      ],
      "execution_count": null,
      "outputs": [
        {
          "output_type": "execute_result",
          "data": {
            "text/plain": [
              "array([[ 2,  6, 10],\n",
              "       [14, 18, 22],\n",
              "       [26, 30, 34]])"
            ]
          },
          "metadata": {
            "tags": []
          },
          "execution_count": 33
        }
      ]
    },
    {
      "cell_type": "code",
      "metadata": {
        "colab": {
          "base_uri": "https://localhost:8080/",
          "height": 241
        },
        "id": "XyrjDzs9x0vj",
        "outputId": "19d6c0c6-e52c-4965-c63d-6e7d59328642"
      },
      "source": [
        "print(z2.shape)\n",
        "print(x.shape)\n",
        "print(x * z2)"
      ],
      "execution_count": null,
      "outputs": [
        {
          "output_type": "stream",
          "text": [
            "(1, 2)\n",
            "(3, 3)\n"
          ],
          "name": "stdout"
        },
        {
          "output_type": "error",
          "ename": "ValueError",
          "evalue": "ignored",
          "traceback": [
            "\u001b[0;31m---------------------------------------------------------------------------\u001b[0m",
            "\u001b[0;31mValueError\u001b[0m                                Traceback (most recent call last)",
            "\u001b[0;32m<ipython-input-34-15d0b692d74e>\u001b[0m in \u001b[0;36m<module>\u001b[0;34m()\u001b[0m\n\u001b[1;32m      1\u001b[0m \u001b[0mprint\u001b[0m\u001b[0;34m(\u001b[0m\u001b[0mz2\u001b[0m\u001b[0;34m.\u001b[0m\u001b[0mshape\u001b[0m\u001b[0;34m)\u001b[0m\u001b[0;34m\u001b[0m\u001b[0;34m\u001b[0m\u001b[0m\n\u001b[1;32m      2\u001b[0m \u001b[0mprint\u001b[0m\u001b[0;34m(\u001b[0m\u001b[0mx\u001b[0m\u001b[0;34m.\u001b[0m\u001b[0mshape\u001b[0m\u001b[0;34m)\u001b[0m\u001b[0;34m\u001b[0m\u001b[0;34m\u001b[0m\u001b[0m\n\u001b[0;32m----> 3\u001b[0;31m \u001b[0mprint\u001b[0m\u001b[0;34m(\u001b[0m\u001b[0mx\u001b[0m \u001b[0;34m*\u001b[0m \u001b[0mz2\u001b[0m\u001b[0;34m)\u001b[0m\u001b[0;34m\u001b[0m\u001b[0;34m\u001b[0m\u001b[0m\n\u001b[0m",
            "\u001b[0;31mValueError\u001b[0m: operands could not be broadcast together with shapes (3,3) (1,2) "
          ]
        }
      ]
    },
    {
      "cell_type": "code",
      "metadata": {
        "id": "KuCu94zXYZej"
      },
      "source": [
        "\n",
        "# 합\n",
        "print(x)\n",
        "print(x.sum(axis = 0))\n",
        "print(x.sum(axis = 1))"
      ],
      "execution_count": null,
      "outputs": []
    },
    {
      "cell_type": "code",
      "metadata": {
        "id": "CYn46-sIYX8r"
      },
      "source": [
        "# 평균\n",
        "print(x)\n",
        "print(x.mean(axis = 0))\n",
        "print(x.mean(axis = 1))"
      ],
      "execution_count": null,
      "outputs": []
    }
  ]
}